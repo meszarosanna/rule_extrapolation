{
 "cells": [
  {
   "cell_type": "markdown",
   "source": [
    "# Setup and imports"
   ],
   "metadata": {
    "collapsed": false
   }
  },
  {
   "cell_type": "code",
   "execution_count": 1,
   "metadata": {
    "collapsed": true,
    "ExecuteTime": {
     "end_time": "2024-05-11T12:29:24.889278Z",
     "start_time": "2024-05-11T12:29:19.142505Z"
    }
   },
   "outputs": [],
   "source": [
    "# imports\n",
    "import numpy as np\n",
    "from tueplots import bundles, figsizes\n",
    "import wandb\n",
    "import matplotlib.pyplot as plt\n",
    "import matplotlib.lines as mlines\n",
    "import pandas as pd\n",
    "\n",
    "\n",
    "import sys\n",
    "\n",
    "%load_ext autoreload\n",
    "%autoreload 2\n",
    "\n",
    "sys.path.insert(0, '.')"
   ]
  },
  {
   "cell_type": "code",
   "execution_count": 2,
   "outputs": [],
   "source": [
    "from analysis import sweep2df, plot_typography, stats2string, RED, BLUE"
   ],
   "metadata": {
    "collapsed": false,
    "ExecuteTime": {
     "end_time": "2024-05-11T12:29:24.919044Z",
     "start_time": "2024-05-11T12:29:24.903668Z"
    }
   }
  },
  {
   "cell_type": "code",
   "execution_count": 3,
   "outputs": [],
   "source": [
    "USETEX = True"
   ],
   "metadata": {
    "collapsed": false,
    "ExecuteTime": {
     "end_time": "2024-05-11T12:29:24.952255Z",
     "start_time": "2024-05-11T12:29:24.920474Z"
    }
   }
  },
  {
   "cell_type": "code",
   "execution_count": 4,
   "outputs": [],
   "source": [
    "plt.rcParams.update(bundles.icml2022(usetex=USETEX))\n",
    "# plt.rcParams.update({\n",
    "#     'text.latex.preamble': [r'\\usepackage{amsfonts}', # mathbb\n",
    "#                             r'\\usepackage{amsmath}'] # boldsymbol\n",
    "# })"
   ],
   "metadata": {
    "collapsed": false,
    "ExecuteTime": {
     "end_time": "2024-05-11T12:29:25.000731Z",
     "start_time": "2024-05-11T12:29:24.954066Z"
    }
   }
  },
  {
   "cell_type": "code",
   "execution_count": 5,
   "outputs": [],
   "source": [
    "plot_typography(usetex=USETEX, small=12, medium=16, big=20)\n"
   ],
   "metadata": {
    "collapsed": false,
    "ExecuteTime": {
     "end_time": "2024-05-11T12:29:25.072241Z",
     "start_time": "2024-05-11T12:29:24.991342Z"
    }
   }
  },
  {
   "cell_type": "code",
   "execution_count": 8,
   "outputs": [],
   "source": [
    "# Constants\n",
    "ENTITY = \"causal-representation-learning\"\n",
    "PROJECT = \"rule_extrapolation\"\n",
    "\n",
    "# W&B API\n",
    "api = wandb.Api(timeout=200)\n",
    "runs = api.runs(ENTITY + \"/\" + PROJECT)"
   ],
   "metadata": {
    "collapsed": false,
    "ExecuteTime": {
     "end_time": "2024-05-11T12:31:57.844620Z",
     "start_time": "2024-05-11T12:31:57.609692Z"
    }
   }
  },
  {
   "cell_type": "markdown",
   "source": [
    "# Data loading"
   ],
   "metadata": {
    "collapsed": false
   }
  },
  {
   "cell_type": "markdown",
   "source": [
    "## baN"
   ],
   "metadata": {
    "collapsed": false
   }
  },
  {
   "cell_type": "code",
   "execution_count": 15,
   "outputs": [],
   "source": [
    "SWEEP_ID = \"ntepxfn4\"\n",
    "sweep = api.sweep(f\"{ENTITY}/{PROJECT}/{SWEEP_ID}\")\n",
    "filename = f\"ban_{SWEEP_ID}\"\n",
    "ban_df,ban_train_loss,ban_val_loss,ban_val_kl,ban_val_accuracy,ban_finised,ban_ood_finised,ban_sos_finised,ban_r1,ban_r2,ban_grammatical,ban_ood_r1,ban_ood_r1_completion,ban_ood_r2,ban_ood_grammatical,ban_sos_r1,ban_sos_r2,ban_sos_grammatical= sweep2df(sweep.runs, filename, save=True, load=True)"
   ],
   "metadata": {
    "collapsed": false,
    "ExecuteTime": {
     "end_time": "2024-05-11T12:46:47.860443Z",
     "start_time": "2024-05-11T12:45:10.332785Z"
    }
   }
  },
  {
   "cell_type": "markdown",
   "source": [
    "## aNbN"
   ],
   "metadata": {
    "collapsed": false
   }
  },
  {
   "cell_type": "code",
   "execution_count": 16,
   "outputs": [],
   "source": [
    "SWEEP_ID = \"iv6wtito\"\n",
    "sweep = api.sweep(f\"{ENTITY}/{PROJECT}/{SWEEP_ID}\")\n",
    "filename = f\"anbn_{SWEEP_ID}\"\n",
    "anbn_df,anbn_train_loss,anbn_val_loss,anbn_val_kl,anbn_val_accuracy,anbn_finised,anbn_ood_finised,anbn_sos_finised,anbn_r1,anbn_r2,anbn_grammatical,anbn_ood_r1,anbn_ood_r1_completion,anbn_ood_r2,anbn_ood_grammatical,anbn_sos_r1,anbn_sos_r2,anbn_sos_grammatical= sweep2df(sweep.runs, filename, save=True, load=True)"
   ],
   "metadata": {
    "collapsed": false,
    "ExecuteTime": {
     "end_time": "2024-05-11T12:47:48.145187Z",
     "start_time": "2024-05-11T12:46:44.409137Z"
    }
   }
  },
  {
   "cell_type": "markdown",
   "source": [
    "## aNbNcN"
   ],
   "metadata": {
    "collapsed": false
   }
  },
  {
   "cell_type": "code",
   "execution_count": 17,
   "outputs": [],
   "source": [
    "SWEEP_ID = \"eaitw1nw\"\n",
    "sweep = api.sweep(f\"{ENTITY}/{PROJECT}/{SWEEP_ID}\")\n",
    "filename = f\"anbncn_{SWEEP_ID}\"\n",
    "anbncn_df,anbncn_train_loss,anbncn_val_loss,anbncn_val_kl,anbncn_val_accuracy,anbncn_finised,anbncn_ood_finised,anbncn_sos_finised,anbncn_r1,anbncn_r2,anbncn_grammatical,anbncn_ood_r1,anbncn_ood_r1_completion,anbncn_ood_r2,anbncn_ood_grammatical,anbncn_sos_r1,anbncn_sos_r2,anbncn_sos_grammatical= sweep2df(sweep.runs, filename, save=True, load=True)"
   ],
   "metadata": {
    "collapsed": false,
    "ExecuteTime": {
     "end_time": "2024-05-11T12:49:24.355355Z",
     "start_time": "2024-05-11T12:47:48.147623Z"
    }
   }
  },
  {
   "cell_type": "markdown",
   "source": [
    "## Matched brackets and parentheses"
   ],
   "metadata": {
    "collapsed": false
   }
  },
  {
   "cell_type": "code",
   "execution_count": 18,
   "outputs": [],
   "source": [
    "SWEEP_ID = \"wr96o2v4\"\n",
    "sweep = api.sweep(f\"{ENTITY}/{PROJECT}/{SWEEP_ID}\")\n",
    "filename = f\"brackets_{SWEEP_ID}\"\n",
    "brackets_df,brackets_train_loss,brackets_val_loss,brackets_val_kl,brackets_val_accuracy,brackets_finised,brackets_ood_finised,brackets_sos_finised,brackets_r1,brackets_r2,brackets_grammatical,brackets_ood_r1,brackets_ood_r1_completion,brackets_ood_r2,brackets_ood_grammatical,brackets_sos_r1,brackets_sos_r2,brackets_sos_grammatical= sweep2df(sweep.runs, filename, save=True, load=True)"
   ],
   "metadata": {
    "collapsed": false,
    "ExecuteTime": {
     "end_time": "2024-05-11T12:51:09.176800Z",
     "start_time": "2024-05-11T12:49:24.362168Z"
    }
   }
  },
  {
   "cell_type": "markdown",
   "source": [
    "# Plots"
   ],
   "metadata": {
    "collapsed": false
   }
  },
  {
   "cell_type": "markdown",
   "source": [
    "## Rule extrapolation (normal and adversarial)"
   ],
   "metadata": {
    "collapsed": false
   }
  },
  {
   "cell_type": "code",
   "execution_count": null,
   "outputs": [],
   "source": [
    "df.min_val_loss.mean(), df.min_val_loss.std()"
   ],
   "metadata": {
    "collapsed": false
   }
  },
  {
   "cell_type": "code",
   "execution_count": null,
   "outputs": [],
   "source": [
    "df_adversarial.min_val_loss.mean(), df_adversarial.min_val_loss.std()"
   ],
   "metadata": {
    "collapsed": false
   }
  },
  {
   "cell_type": "code",
   "execution_count": null,
   "outputs": [],
   "source": [
    "df_extrapolation.min_val_loss.mean(), df_extrapolation.min_val_loss.std()"
   ],
   "metadata": {
    "collapsed": false
   }
  },
  {
   "cell_type": "code",
   "execution_count": null,
   "outputs": [],
   "source": [
    "df.ood_r2_accuracy4min_val_loss.mean(), df.ood_r2_accuracy4min_val_loss.std(), df.ood_r2_accuracy4min_val_loss.min(), df.ood_r2_accuracy4min_val_loss.max()"
   ],
   "metadata": {
    "collapsed": false
   }
  },
  {
   "cell_type": "code",
   "execution_count": null,
   "outputs": [],
   "source": [
    "df_adversarial.ood_r2_accuracy4min_val_loss.mean(), df_adversarial.ood_r2_accuracy4min_val_loss.std(), df_adversarial.ood_r2_accuracy4min_val_loss.min(), df_adversarial.ood_r2_accuracy4min_val_loss.max()"
   ],
   "metadata": {
    "collapsed": false
   }
  },
  {
   "cell_type": "code",
   "execution_count": null,
   "outputs": [],
   "source": [
    "df_extrapolation.ood_r2_accuracy4min_val_loss.mean(), df_extrapolation.ood_r2_accuracy4min_val_loss.std(), df_extrapolation.ood_r2_accuracy4min_val_loss.min(), df_extrapolation.ood_r2_accuracy4min_val_loss.max()"
   ],
   "metadata": {
    "collapsed": false
   }
  },
  {
   "cell_type": "code",
   "execution_count": null,
   "outputs": [],
   "source": [
    "TICK_PADDING = 2\n",
    "LABELPAD = 1\n",
    "cmap = \"coolwarm\"\n",
    "\n",
    "fig = plt.figure(figsize=figsizes.icml2022_full(nrows=1, ncols=2)['figure.figsize'])\n",
    "\n",
    "ax = fig.add_subplot(121)\n",
    "# ax.grid(True, which=\"both\", ls=\"-.\")\n",
    "ax.set_axisbelow(True)\n",
    "# df.min_val_loss\n",
    "im = ax.bar(x=[0.5, 1.5, 2.5], height=[df.ood_r2_accuracy4min_val_loss.mean(), df_adversarial.ood_r2_accuracy4min_val_loss.mean(), df_extrapolation.ood_r2_accuracy4min_val_loss.mean()], yerr=[df.ood_r2_accuracy4min_val_loss.std(), df_adversarial.ood_r2_accuracy4min_val_loss.std(),df_extrapolation.ood_r2_accuracy4min_val_loss.std()],  label=\"accuracy\", width=0.5, color=BLUE)\n",
    "# im = ax.scatter(df_adversarial.min_val_loss, df_adversarial.ood_r2_accuracy4min_val_loss, cmap=cmap, label=\"adversarial\")\n",
    "ax.set_ylabel(\"\\#a=\\#b %\", labelpad=LABELPAD)\n",
    "\n",
    "# set xtick names\n",
    "ax.set_xticks([0.5, 1.5, 2.5])\n",
    "ax.set_xticklabels([\"normal\", \"adversarial\", \"extrapolation\"])\n",
    "\n",
    "# ax.set_xlabel(\"Minimum validation loss\", labelpad=LABELPAD)\n",
    "plt.legend()\n",
    "ax.tick_params(axis='both', which='major', pad=TICK_PADDING)\n",
    "\n",
    "# ax = fig.add_subplot(122)\n",
    "# ax.grid(True, which=\"both\", ls=\"-.\")\n",
    "# ax.set_axisbelow(True)\n",
    "#\n",
    "# im = ax.scatter(df.min_val_loss, df.ood_r1_completion_accuracy4min_val_loss, cmap=cmap, label=\"normal\")\n",
    "# im = ax.scatter(df_adversarial.min_val_loss, df_adversarial.ood_r1_completion_accuracy4min_val_loss, cmap=cmap, label=\"adversarial\")\n",
    "# ax.set_ylabel(\"a's before b's %\", labelpad=LABELPAD)\n",
    "# ax.set_xlabel(\"Minimum validation loss\", labelpad=LABELPAD)\n",
    "# plt.legend()\n",
    "# ax.tick_params(axis='both', which='major', pad=TICK_PADDING)\n",
    "#\n",
    "#\n",
    "plt.savefig(\"adversarial_rule_extrapolation.svg\")"
   ],
   "metadata": {
    "collapsed": false
   }
  },
  {
   "cell_type": "code",
   "execution_count": null,
   "outputs": [],
   "source": [
    "TICK_PADDING = 2\n",
    "LABELPAD = 1\n",
    "cmap = \"coolwarm\"\n",
    "\n",
    "fig = plt.figure(figsize=figsizes.icml2022_full(nrows=1, ncols=2)['figure.figsize'])\n",
    "\n",
    "ax = fig.add_subplot(121)\n",
    "ax.grid(True, which=\"both\", ls=\"-.\")\n",
    "ax.set_axisbelow(True)\n",
    "\n",
    "im = ax.scatter(df.min_val_loss, df.ood_r2_accuracy4min_val_loss, cmap=cmap, label=\"normal\")\n",
    "im = ax.scatter(df_adversarial.min_val_loss, df_adversarial.ood_r2_accuracy4min_val_loss, cmap=cmap, label=\"adversarial\")\n",
    "ax.set_ylabel(\"\\#a=\\#b %\", labelpad=LABELPAD)\n",
    "ax.set_xlabel(\"Minimum test loss\", labelpad=LABELPAD)\n",
    "plt.legend()\n",
    "ax.tick_params(axis='both', which='major', pad=TICK_PADDING)\n",
    "\n",
    "ax = fig.add_subplot(122)\n",
    "ax.grid(True, which=\"both\", ls=\"-.\")\n",
    "ax.set_axisbelow(True)\n",
    "\n",
    "im = ax.scatter(df.min_val_loss, df.ood_r1_completion_accuracy4min_val_loss, cmap=cmap, label=\"normal\")\n",
    "im = ax.scatter(df_adversarial.min_val_loss, df_adversarial.ood_r1_completion_accuracy4min_val_loss, cmap=cmap, label=\"adversarial\")\n",
    "ax.set_ylabel(\"a's before b's %\", labelpad=LABELPAD)\n",
    "ax.set_xlabel(\"Minimum validation loss\", labelpad=LABELPAD)\n",
    "plt.legend()\n",
    "ax.tick_params(axis='both', which='major', pad=TICK_PADDING)\n",
    "\n",
    "\n",
    "plt.savefig(\"adversarial_rule_extrapolation.svg\")"
   ],
   "metadata": {
    "collapsed": false
   }
  },
  {
   "cell_type": "code",
   "execution_count": null,
   "outputs": [],
   "source": [
    "def _prune_histories(histories):\n",
    "    min_len = np.array([len(v) for v in histories]).min()\n",
    "    return np.array([v[:min_len] for v in histories])"
   ],
   "metadata": {
    "collapsed": false
   }
  },
  {
   "cell_type": "code",
   "execution_count": null,
   "outputs": [],
   "source": [
    "val_loss_pruned = _prune_histories(val_loss)\n",
    "val_loss_adversarial_pruned = _prune_histories(val_loss_adversarial)\n",
    "val_loss_extrapolation_pruned = _prune_histories(val_loss_extrapolation)\n",
    "\n",
    "ood_r2_pruned = _prune_histories(ood_r2)\n",
    "ood_r2_adversarial_pruned = _prune_histories(ood_r2_adversarial)\n",
    "ood_r2_extrapolation_pruned = _prune_histories(ood_r2_extrapolation)"
   ],
   "metadata": {
    "collapsed": false
   }
  },
  {
   "cell_type": "code",
   "execution_count": null,
   "outputs": [],
   "source": [
    "from scipy.interpolate import make_interp_spline\n",
    "def spline_interpolation(x, y, num=100):\n",
    "    xnew = np.linspace(x.min(), x.max(), num=num)\n",
    "    ynew = make_interp_spline(x, y)(xnew)\n",
    "    return xnew, ynew"
   ],
   "metadata": {
    "collapsed": false
   }
  },
  {
   "cell_type": "code",
   "execution_count": null,
   "outputs": [],
   "source": [
    "TICK_PADDING = 2\n",
    "LABELPAD = 2\n",
    "cmap = \"coolwarm\"\n",
    "EPS=1e-8\n",
    "\n",
    "fig = plt.figure(figsize=figsizes.icml2022_full(nrows=2, ncols=3)['figure.figsize'])\n",
    "\n",
    "\n",
    "ax = fig.add_subplot(121)\n",
    "ax.grid(True, which=\"both\", ls=\"-.\")\n",
    "ax.set_axisbelow(True)\n",
    "\n",
    "\n",
    "# max likelihood\n",
    "# for as_bs, val in zip(ood_r2, val_loss):\n",
    "#     if len(as_bs) == 0:\n",
    "#         continue\n",
    "#     ax.plot(as_bs, val, alpha=0.2, c=BLUE)\n",
    "\n",
    "im = ax.plot(100*ood_r2_pruned.mean(0), val_loss_pruned.mean(0),\n",
    "                 label=\"max likelihood\", c=BLUE)\n",
    "\n",
    "\n",
    "\n",
    "\n",
    "im = ax.scatter(100*ood_r2_pruned.mean(0)[0], val_loss_pruned.mean(0)[0], c=BLUE, marker=\"o\", s=35)\n",
    "im = ax.scatter(100*ood_r2_pruned.mean(0)[-1], val_loss_pruned.mean(0)[-1], c=BLUE, marker=\"*\", s=100)\n",
    "\n",
    "# adversarial\n",
    "# for as_bs, val in zip(ood_r2_adversarial, val_loss_adversarial):\n",
    "#     if len(as_bs) == 0:\n",
    "#         continue\n",
    "#     ax.plot(as_bs, val,  alpha=0.2, c=RED)\n",
    "\n",
    "im = ax.plot(100* ood_r2_adversarial_pruned.mean(0), val_loss_adversarial_pruned.mean(0),\n",
    "                 label=\"adversarial\", c=RED)\n",
    "\n",
    "\n",
    "\n",
    "im = ax.scatter(100*ood_r2_adversarial_pruned.mean(0)[0], val_loss_adversarial_pruned.mean(0)[0], c=RED, marker=\"o\", s=35)\n",
    "im = ax.scatter(100*ood_r2_adversarial_pruned.mean(0)[-1], val_loss_adversarial_pruned.mean(0)[-1], c=RED, marker=\"*\", s=100)\n",
    "\n",
    "\n",
    "# oracle\n",
    "# for as_bs, val in zip(ood_r2_extrapolation, val_loss_extrapolation):\n",
    "#     if len(as_bs) == 0:\n",
    "#         continue\n",
    "#     ax.plot(as_bs, val,  alpha=0.2, c=\"green\")\n",
    "\n",
    "im = ax.plot(100* ood_r2_extrapolation_pruned.mean(0), val_loss_extrapolation_pruned.mean(0),\n",
    "                 label=\"oracle\", c=\"green\")\n",
    "\n",
    "im = ax.scatter(100*ood_r2_extrapolation_pruned.mean(0)[0], val_loss_extrapolation_pruned.mean(0)[0], c=\"green\", marker=\"o\", s=35)\n",
    "im = ax.scatter(100*ood_r2_extrapolation_pruned.mean(0)[-1], val_loss_extrapolation_pruned.mean(0)[-1], c=\"green\", marker=\"*\", s=100)\n",
    "\n",
    "\n",
    "handles, labels = ax.get_legend_handles_labels()\n",
    "\n",
    "\n",
    "\n",
    "\n",
    "# Create the linestyle-based legend and set its location\n",
    "start_marker = mlines.Line2D([], [], color='black', marker='o', linestyle='None', markersize=5, label='start')\n",
    "end_marker = mlines.Line2D([], [], color='black', marker='*', linestyle='None', markersize=10, label='end')\n",
    "handles2 = [start_marker, end_marker]\n",
    "labels2 = ['start', 'end']\n",
    "legend = ax.legend([*handles, *handles2], [*labels, *labels2], loc='upper right')\n",
    "\n",
    "ax.add_artist(legend)\n",
    "\n",
    "# set xtick names\n",
    "ax.set_xticks([0, 20, 40, 60, 80,])\n",
    "ax.set_xticklabels([\"0\\%\", \"20\\%\", \"40\\%\", \"60\\%\", \"80\\%\"])\n",
    "\n",
    "ax.set_xlabel(\"OOD Accuracy of Rule 1 (\\#a=\\#b)\", labelpad=LABELPAD)\n",
    "ax.set_ylabel(\"Test loss\", labelpad=LABELPAD)\n",
    "\n",
    "\n",
    "plt.savefig(\"rule_extrapolation.svg\")"
   ],
   "metadata": {
    "collapsed": false
   }
  },
  {
   "cell_type": "markdown",
   "source": [
    "## Emergence of grammatical correctness"
   ],
   "metadata": {
    "collapsed": false
   }
  },
  {
   "cell_type": "code",
   "execution_count": null,
   "outputs": [],
   "source": [
    "v = np.array(val_kl)"
   ],
   "metadata": {
    "collapsed": false
   }
  },
  {
   "cell_type": "code",
   "execution_count": null,
   "outputs": [],
   "source": [
    "grammatical = np.array(grammatical)"
   ],
   "metadata": {
    "collapsed": false
   }
  },
  {
   "cell_type": "code",
   "execution_count": null,
   "outputs": [],
   "source": [
    "LABELPAD = 1\n",
    "TICK_PADDING = 2\n",
    "#\n",
    "fig = plt.figure(figsize=figsizes.neurips2022(nrows=1, ncols=2, rel_width=1)['figure.figsize'])\n",
    "#\n",
    "#\n",
    "ax = fig.add_subplot(121)\n",
    "ax.grid(True, which=\"both\", ls=\"-.\")\n",
    "\n",
    "#\n",
    "# r2 = np.array(r2)\n",
    "# val_loss = np.array(val_loss)\n",
    "\n",
    "for as_bs, val in zip(ood_r2, val_loss):\n",
    "    if len(as_bs) == 0:\n",
    "        continue\n",
    "    ax.plot(val, as_bs, alpha=0.3)\n",
    "# ax.scatter(val_loss, r2, label=\"normal\", c=BLUE)\n",
    "\n",
    "for as_bs, val in zip(ood_r2_adversarial, val_loss_adversarial):\n",
    "    if len(as_bs) == 0:\n",
    "        continue\n",
    "    ax.plot(val, as_bs, alpha=0.3)\n",
    "#\n",
    "#\n",
    "# # Remove ticks and labels and set which side to label\n",
    "# ticksoff = dict(labelleft=False, labelright=False, left=False, right=False)\n",
    "# ax.tick_params(axis=\"y\", **ticksoff)\n",
    "# ax.tick_params(axis=\"y\", labelleft=True, labelright=False, left=True, right=False)\n",
    "# ax.tick_params(axis=\"y\", labelleft=False, labelright=True, left=False, right=True)\n",
    "#\n",
    "#\n",
    "# ax.errorbar(range(v.shape[1]), (grammatical-np.exp(-v)).mean(0), yerr=(grammatical-np.exp(-v)).std(0), label='val_kl', c=BLUE)\n",
    "#\n"
   ],
   "metadata": {
    "collapsed": false
   }
  },
  {
   "cell_type": "code",
   "execution_count": null,
   "outputs": [],
   "source": [
    "ax.plot(r2[0])"
   ],
   "metadata": {
    "collapsed": false
   }
  }
 ],
 "metadata": {
  "kernelspec": {
   "display_name": "Python 3",
   "language": "python",
   "name": "python3"
  },
  "language_info": {
   "codemirror_mode": {
    "name": "ipython",
    "version": 2
   },
   "file_extension": ".py",
   "mimetype": "text/x-python",
   "name": "python",
   "nbconvert_exporter": "python",
   "pygments_lexer": "ipython2",
   "version": "2.7.6"
  }
 },
 "nbformat": 4,
 "nbformat_minor": 0
}
