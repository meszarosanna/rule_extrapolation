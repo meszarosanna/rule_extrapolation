{
 "cells": [
  {
   "cell_type": "markdown",
   "source": [
    "# Setup and imports"
   ],
   "metadata": {
    "collapsed": false
   }
  },
  {
   "cell_type": "code",
   "execution_count": null,
   "metadata": {
    "collapsed": true
   },
   "outputs": [],
   "source": [
    "# imports\n",
    "import numpy as np\n",
    "from tueplots import bundles, figsizes\n",
    "import wandb\n",
    "import matplotlib.pyplot as plt\n",
    "import matplotlib.lines as mlines\n",
    "import pandas as pd\n",
    "\n",
    "\n",
    "import sys\n",
    "\n",
    "%load_ext autoreload\n",
    "%autoreload 2\n",
    "\n",
    "sys.path.insert(0, '.')"
   ]
  },
  {
   "cell_type": "code",
   "execution_count": null,
   "outputs": [],
   "source": [
    "from analysis import sweep2df, plot_typography, stats2string, RED, BLUE"
   ],
   "metadata": {
    "collapsed": false
   }
  },
  {
   "cell_type": "code",
   "execution_count": null,
   "outputs": [],
   "source": [
    "USETEX = True"
   ],
   "metadata": {
    "collapsed": false
   }
  },
  {
   "cell_type": "code",
   "execution_count": null,
   "outputs": [],
   "source": [
    "plt.rcParams.update(bundles.icml2022(usetex=USETEX))\n",
    "# plt.rcParams.update({\n",
    "#     'text.latex.preamble': [r'\\usepackage{amsfonts}', # mathbb\n",
    "#                             r'\\usepackage{amsmath}'] # boldsymbol\n",
    "# })"
   ],
   "metadata": {
    "collapsed": false
   }
  },
  {
   "cell_type": "code",
   "execution_count": null,
   "outputs": [],
   "source": [
    "plot_typography(usetex=USETEX, small=12, medium=16, big=20)\n"
   ],
   "metadata": {
    "collapsed": false
   }
  },
  {
   "cell_type": "code",
   "execution_count": null,
   "outputs": [],
   "source": [
    "# Constants\n",
    "ENTITY = \"causal-representation-learning\"\n",
    "PROJECT = \"rule_extrapolation\"\n",
    "\n",
    "# W&B API\n",
    "api = wandb.Api(timeout=200)\n",
    "runs = api.runs(ENTITY + \"/\" + PROJECT)"
   ],
   "metadata": {
    "collapsed": false
   }
  },
  {
   "cell_type": "markdown",
   "source": [
    "# Data loading"
   ],
   "metadata": {
    "collapsed": false
   }
  },
  {
   "cell_type": "markdown",
   "source": [
    "## baN"
   ],
   "metadata": {
    "collapsed": false
   }
  },
  {
   "cell_type": "code",
   "execution_count": null,
   "outputs": [],
   "source": [
    "SWEEP_ID = \"y2193u7e\"\n",
    "sweep = api.sweep(f\"{ENTITY}/{PROJECT}/{SWEEP_ID}\")\n",
    "filename = f\"ban_{SWEEP_ID}\"\n",
    "ban_df,ban_train_loss,ban_val_loss,ban_val_kl,ban_val_accuracy,ban_finised,ban_ood_finised,ban_sos_finised,ban_r1,ban_r2,ban_grammatical,ban_ood_r1,ban_ood_r1_completion,ban_ood_r2,ban_ood_grammatical,ban_sos_r1,ban_sos_r2,ban_sos_grammatical= sweep2df(sweep.runs, filename, save=True, load=False)"
   ],
   "metadata": {
    "collapsed": false
   }
  },
  {
   "cell_type": "markdown",
   "source": [
    "## bbaN"
   ],
   "metadata": {
    "collapsed": false
   }
  },
  {
   "cell_type": "code",
   "execution_count": null,
   "outputs": [],
   "source": [
    "SWEEP_ID = \"hup2v4ru\"\n",
    "sweep = api.sweep(f\"{ENTITY}/{PROJECT}/{SWEEP_ID}\")\n",
    "filename = f\"bban_{SWEEP_ID}\"\n",
    "bban_df,bban_train_loss,bban_val_loss,bban_val_kl,bban_val_accuracy,bban_finised,bban_ood_finised,bban_sos_finised,bban_r1,bban_r2,bban_grammatical,bban_ood_r1,bban_ood_r1_completion,bban_ood_r2,bban_ood_grammatical,bban_sos_r1,bban_sos_r2,bban_sos_grammatical= sweep2df(sweep.runs, filename, save=True, load=False)"
   ],
   "metadata": {
    "collapsed": false
   }
  },
  {
   "cell_type": "markdown",
   "source": [
    "## aNbN"
   ],
   "metadata": {
    "collapsed": false
   }
  },
  {
   "cell_type": "code",
   "execution_count": null,
   "outputs": [],
   "source": [
    "SWEEP_ID = \"nfrfpkqm\"\n",
    "sweep = api.sweep(f\"{ENTITY}/{PROJECT}/{SWEEP_ID}\")\n",
    "filename = f\"anbn_{SWEEP_ID}\"\n",
    "anbn_df,anbn_train_loss,anbn_val_loss,anbn_val_kl,anbn_val_accuracy,anbn_finised,anbn_ood_finised,anbn_sos_finised,anbn_r1,anbn_r2,anbn_grammatical,anbn_ood_r1,anbn_ood_r1_completion,anbn_ood_r2,anbn_ood_grammatical,anbn_sos_r1,anbn_sos_r2,anbn_sos_grammatical= sweep2df(sweep.runs, filename, save=True, load=False)"
   ],
   "metadata": {
    "collapsed": false
   }
  },
  {
   "cell_type": "markdown",
   "source": [
    "## aNbNcN"
   ],
   "metadata": {
    "collapsed": false
   }
  },
  {
   "cell_type": "code",
   "execution_count": null,
   "outputs": [],
   "source": [
    "SWEEP_ID = \"6m1qb70e\"\n",
    "sweep = api.sweep(f\"{ENTITY}/{PROJECT}/{SWEEP_ID}\")\n",
    "filename = f\"anbncn_{SWEEP_ID}\"\n",
    "anbncn_df,anbncn_train_loss,anbncn_val_loss,anbncn_val_kl,anbncn_val_accuracy,anbncn_finised,anbncn_ood_finised,anbncn_sos_finised,anbncn_r1,anbncn_r2,anbncn_grammatical,anbncn_ood_r1,anbncn_ood_r1_completion,anbncn_ood_r2,anbncn_ood_grammatical,anbncn_sos_r1,anbncn_sos_r2,anbncn_sos_grammatical= sweep2df(sweep.runs, filename, save=True, load=False)"
   ],
   "metadata": {
    "collapsed": false
   }
  },
  {
   "cell_type": "markdown",
   "source": [
    "## Matched brackets and parentheses"
   ],
   "metadata": {
    "collapsed": false
   }
  },
  {
   "cell_type": "code",
   "execution_count": null,
   "outputs": [],
   "source": [
    "SWEEP_ID = \"r9wywplg\"\n",
    "sweep = api.sweep(f\"{ENTITY}/{PROJECT}/{SWEEP_ID}\")\n",
    "filename = f\"brackets_{SWEEP_ID}\"\n",
    "brackets_df,brackets_train_loss,brackets_val_loss,brackets_val_kl,brackets_val_accuracy,brackets_finised,brackets_ood_finised,brackets_sos_finised,brackets_r1,brackets_r2,brackets_grammatical,brackets_ood_r1,brackets_ood_r1_completion,brackets_ood_r2,brackets_ood_grammatical,brackets_sos_r1,brackets_sos_r2,brackets_sos_grammatical= sweep2df(sweep.runs, filename, save=True, load=False)"
   ],
   "metadata": {
    "collapsed": false
   }
  },
  {
   "cell_type": "markdown",
   "source": [
    "# Plots"
   ],
   "metadata": {
    "collapsed": false
   }
  },
  {
   "cell_type": "markdown",
   "source": [],
   "metadata": {
    "collapsed": false
   }
  },
  {
   "cell_type": "code",
   "execution_count": null,
   "outputs": [],
   "source": [
    "# group by model\n",
    "\n",
    "def grouped_rule_stats(df):\n",
    "    grouped_df = df.groupby(\"model\")\n",
    "\n",
    "    stats = {}\n",
    "\n",
    "    stats[\"val_loss\"] = grouped_df.min_val_loss\n",
    "\n",
    "    stats[\"rule_1\"] = grouped_df.rule_1_accuracy4min_val_loss\n",
    "    stats[\"rule_2\"] = grouped_df.rule_2_accuracy4min_val_loss\n",
    "    stats[\"grammatical\"] = grouped_df.grammatical_accuracy4min_val_loss\n",
    "    stats[\"finished\"] = grouped_df.finished4min_val_loss\n",
    "\n",
    "    stats[\"ood_rule_1\"] = grouped_df.ood_rule_1_accuracy4min_val_loss\n",
    "    stats[\"ood_rule_2\"] = grouped_df.ood_rule_2_accuracy4min_val_loss\n",
    "    stats[\"ood_rule_2_completion\"] = grouped_df.ood_rule_2_completion_accuracy4min_val_loss\n",
    "    stats[\"ood_grammatical\"] = grouped_df.ood_grammatical_accuracy4min_val_loss\n",
    "    stats[\"ood_finished\"] = grouped_df.ood_finished4min_val_loss\n",
    "\n",
    "    stats[\"sos_rule_1\"] = grouped_df.sos_rule_1_accuracy4min_val_loss\n",
    "    stats[\"sos_rule_2\"] = grouped_df.sos_rule_2_accuracy4min_val_loss\n",
    "    stats[\"sos_grammatical\"] = grouped_df.sos_grammatical_accuracy4min_val_loss\n",
    "    stats[\"sos_finished\"] = grouped_df.sos_finished4min_val_loss\n",
    "\n",
    "    return stats\n"
   ],
   "metadata": {
    "collapsed": false
   }
  },
  {
   "cell_type": "code",
   "execution_count": null,
   "outputs": [],
   "source": [
    "ban_stats = grouped_rule_stats(ban_df)\n",
    "anbn_stats = grouped_rule_stats(anbn_df)\n",
    "anbncn_stats = grouped_rule_stats(anbncn_df)\n",
    "brackets_stats = grouped_rule_stats(brackets_df)"
   ],
   "metadata": {
    "collapsed": false
   }
  },
  {
   "cell_type": "markdown",
   "source": [
    "## baN"
   ],
   "metadata": {
    "collapsed": false
   }
  },
  {
   "cell_type": "code",
   "execution_count": null,
   "outputs": [],
   "source": [
    "TICK_PADDING = 2\n",
    "LABELPAD = 1\n",
    "cmap = \"coolwarm\"\n",
    "\n",
    "stats = ban_stats\n",
    "\n",
    "fig = plt.figure(figsize=figsizes.icml2022_full(nrows=1, ncols=2)['figure.figsize'])\n",
    "\n",
    "ax = fig.add_subplot(121)\n",
    "# ax.grid(True, which=\"both\", ls=\"-.\")\n",
    "# ax.set_axisbelow(True)\n",
    "\n",
    "x_pos = list(range(len(stats[\"rule_1\"])))\n",
    "\n",
    "ax.errorbar(x_pos, 100*stats[\"rule_1\"].mean(), yerr=10*stats[\"rule_1\"].std(), fmt='o', label=\"R1\")\n",
    "ax.errorbar(x_pos, 100*stats[\"rule_2\"].mean(), yerr=10*stats[\"rule_2\"].std(), fmt='o', label=\"R2\")\n",
    "ax.errorbar(x_pos, 100*stats[\"grammatical\"].mean(), yerr=10*stats[\"grammatical\"].std(), fmt='o', label=\"R1+R2\")\n",
    "# ax.errorbar(x_pos, 100*stats[\"finished\"].mean(), yerr=10*stats[\"finished\"].std(), fmt='o', label=\"F\")\n",
    "\n",
    "ax.set_ylabel(\"Accuracy (\\%)\", labelpad=LABELPAD)\n",
    "\n",
    "# set xtick names\n",
    "ax.set_xticks(x_pos)\n",
    "ax.set_xticklabels(stats[\"rule_1\"].groups.keys())\n",
    "\n",
    "ax2 = fig.add_subplot(122)\n",
    "\n",
    "ax2.errorbar(x_pos, 100*stats[\"ood_rule_1\"].mean(), yerr=10*stats[\"ood_rule_1\"].std(), fmt='o', label=\"R1\")\n",
    "ax2.errorbar(x_pos, 100*stats[\"ood_rule_2\"].mean(), yerr=10*stats[\"ood_rule_2\"].std(), fmt='o', label=\"R2\")\n",
    "ax2.errorbar(x_pos, 100*stats[\"ood_rule_2_completion\"].mean(), yerr=10*stats[\"ood_rule_2_completion\"].std(), fmt='o', label=\"R2 (compl)\")\n",
    "\n",
    "\n",
    "# set xtick names\n",
    "ax2.set_xticks(x_pos)\n",
    "ax2.set_xticklabels(stats[\"rule_1\"].groups.keys())\n",
    "ax2.set_ylabel(\"Accuracy (\\%)\", labelpad=LABELPAD)\n",
    "\n",
    "\n",
    "plt.legend()\n",
    "ax.tick_params(axis='both', which='major', pad=TICK_PADDING)\n"
   ],
   "metadata": {
    "collapsed": false
   }
  },
  {
   "cell_type": "markdown",
   "source": [
    "## aNbN"
   ],
   "metadata": {
    "collapsed": false
   }
  },
  {
   "cell_type": "code",
   "execution_count": null,
   "outputs": [],
   "source": [
    "anbn_stats[\"rule_2\"].mean()"
   ],
   "metadata": {
    "collapsed": false
   }
  },
  {
   "cell_type": "code",
   "execution_count": null,
   "outputs": [],
   "source": [
    "TICK_PADDING = 2\n",
    "LABELPAD = 1\n",
    "cmap = \"coolwarm\"\n",
    "\n",
    "stats = anbn_stats\n",
    "\n",
    "fig = plt.figure(figsize=figsizes.icml2022_full(nrows=1, ncols=2)['figure.figsize'])\n",
    "\n",
    "ax = fig.add_subplot(121)\n",
    "# ax.grid(True, which=\"both\", ls=\"-.\")\n",
    "# ax.set_axisbelow(True)\n",
    "\n",
    "x_pos = list(range(len(stats[\"rule_1\"])))\n",
    "\n",
    "ax.errorbar(x_pos, 100*stats[\"rule_1\"].mean(), yerr=10*stats[\"rule_1\"].std(), fmt='o', label=\"R1\")\n",
    "ax.errorbar(x_pos, 100*stats[\"rule_2\"].mean(), yerr=10*stats[\"rule_2\"].std(), fmt='o', label=\"R2\")\n",
    "ax.errorbar(x_pos, 100*stats[\"grammatical\"].mean(), yerr=10*stats[\"grammatical\"].std(), fmt='o', label=\"R1+R2\")\n",
    "# ax.errorbar(x_pos, 100*stats[\"finished\"].mean(), yerr=10*stats[\"finished\"].std(), fmt='o', label=\"F\")\n",
    "\n",
    "ax.set_ylabel(\"Accuracy (\\%)\", labelpad=LABELPAD)\n",
    "\n",
    "# set xtick names\n",
    "ax.set_xticks(x_pos)\n",
    "ax.set_xticklabels(stats[\"rule_1\"].groups.keys())\n",
    "\n",
    "ax2 = fig.add_subplot(122)\n",
    "\n",
    "ax2.errorbar(x_pos, 100*stats[\"ood_rule_1\"].mean(), yerr=10*stats[\"ood_rule_1\"].std(), fmt='o', label=\"R1\")\n",
    "ax2.errorbar(x_pos, 100*stats[\"ood_rule_2\"].mean(), yerr=10*stats[\"ood_rule_2\"].std(), fmt='o', label=\"R2\")\n",
    "ax2.errorbar(x_pos, 100*stats[\"ood_rule_2_completion\"].mean(), yerr=10*stats[\"ood_rule_2_completion\"].std(), fmt='o', label=\"R2 (compl)\")\n",
    "\n",
    "\n",
    "# set xtick names\n",
    "ax2.set_xticks(x_pos)\n",
    "ax2.set_xticklabels(stats[\"rule_1\"].groups.keys())\n",
    "ax2.set_ylabel(\"Accuracy (\\%)\", labelpad=LABELPAD)\n",
    "\n",
    "\n",
    "plt.legend()\n",
    "ax.tick_params(axis='both', which='major', pad=TICK_PADDING)\n",
    "\n",
    "\n",
    "# plt.savefig(\"adversarial_rule_extrapolation.svg\")"
   ],
   "metadata": {
    "collapsed": false
   }
  },
  {
   "cell_type": "markdown",
   "source": [
    "## aNbNcN"
   ],
   "metadata": {
    "collapsed": false
   }
  },
  {
   "cell_type": "code",
   "execution_count": null,
   "outputs": [],
   "source": [
    "TICK_PADDING = 2\n",
    "LABELPAD = 1\n",
    "cmap = \"coolwarm\"\n",
    "\n",
    "stats = anbncn_stats\n",
    "\n",
    "fig = plt.figure(figsize=figsizes.icml2022_full(nrows=1, ncols=2)['figure.figsize'])\n",
    "\n",
    "ax = fig.add_subplot(121)\n",
    "# ax.grid(True, which=\"both\", ls=\"-.\")\n",
    "# ax.set_axisbelow(True)\n",
    "\n",
    "x_pos = list(range(len(stats[\"rule_1\"])))\n",
    "\n",
    "ax.errorbar(x_pos, 100*stats[\"rule_1\"].mean(), yerr=10*stats[\"rule_1\"].std(), fmt='o', label=\"R1\")\n",
    "ax.errorbar(x_pos, 100*stats[\"rule_2\"].mean(), yerr=10*stats[\"rule_2\"].std(), fmt='o', label=\"R2\")\n",
    "ax.errorbar(x_pos, 100*stats[\"grammatical\"].mean(), yerr=10*stats[\"grammatical\"].std(), fmt='o', label=\"R1+R2\")\n",
    "# ax.errorbar(x_pos, 100*stats[\"finished\"].mean(), yerr=10*stats[\"finished\"].std(), fmt='o', label=\"F\")\n",
    "\n",
    "ax.set_ylabel(\"Accuracy (\\%)\", labelpad=LABELPAD)\n",
    "\n",
    "# set xtick names\n",
    "ax.set_xticks(x_pos)\n",
    "ax.set_xticklabels(stats[\"rule_1\"].groups.keys())\n",
    "\n",
    "ax2 = fig.add_subplot(122)\n",
    "\n",
    "ax2.errorbar(x_pos, 100*stats[\"ood_rule_1\"].mean(), yerr=10*stats[\"ood_rule_1\"].std(), fmt='o', label=\"R1\")\n",
    "ax2.errorbar(x_pos, 100*stats[\"ood_rule_2\"].mean(), yerr=10*stats[\"ood_rule_2\"].std(), fmt='o', label=\"R2\")\n",
    "ax2.errorbar(x_pos, 100*stats[\"ood_rule_2_completion\"].mean(), yerr=10*stats[\"ood_rule_2_completion\"].std(), fmt='o', label=\"R2 (compl)\")\n",
    "\n",
    "\n",
    "# set xtick names\n",
    "ax2.set_xticks(x_pos)\n",
    "ax2.set_xticklabels(stats[\"rule_1\"].groups.keys())\n",
    "ax2.set_ylabel(\"Accuracy (\\%)\", labelpad=LABELPAD)\n",
    "\n",
    "\n",
    "plt.legend()\n",
    "ax.tick_params(axis='both', which='major', pad=TICK_PADDING)\n"
   ],
   "metadata": {
    "collapsed": false
   }
  },
  {
   "cell_type": "markdown",
   "source": [
    "## Matched brackets and parentheses"
   ],
   "metadata": {
    "collapsed": false
   }
  },
  {
   "cell_type": "code",
   "execution_count": null,
   "outputs": [],
   "source": [
    "TICK_PADDING = 2\n",
    "LABELPAD = 1\n",
    "cmap = \"coolwarm\"\n",
    "\n",
    "stats = brackets_stats\n",
    "\n",
    "fig = plt.figure(figsize=figsizes.icml2022_full(nrows=1, ncols=2)['figure.figsize'])\n",
    "\n",
    "ax = fig.add_subplot(121)\n",
    "# ax.grid(True, which=\"both\", ls=\"-.\")\n",
    "# ax.set_axisbelow(True)\n",
    "\n",
    "x_pos = list(range(len(stats[\"rule_1\"])))\n",
    "\n",
    "ax.errorbar(x_pos, 100*stats[\"rule_1\"].mean(), yerr=10*stats[\"rule_1\"].std(), fmt='o', label=\"R1\")\n",
    "ax.errorbar(x_pos, 100*stats[\"rule_2\"].mean(), yerr=10*stats[\"rule_2\"].std(), fmt='o', label=\"R2\")\n",
    "ax.errorbar(x_pos, 100*stats[\"grammatical\"].mean(), yerr=10*stats[\"grammatical\"].std(), fmt='o', label=\"R1+R2\")\n",
    "# ax.errorbar(x_pos, 100*stats[\"finished\"].mean(), yerr=10*stats[\"finished\"].std(), fmt='o', label=\"F\")\n",
    "\n",
    "ax.set_ylabel(\"Accuracy (\\%)\", labelpad=LABELPAD)\n",
    "\n",
    "# set xtick names\n",
    "ax.set_xticks(x_pos)\n",
    "ax.set_xticklabels(stats[\"rule_1\"].groups.keys())\n",
    "\n",
    "ax2 = fig.add_subplot(122)\n",
    "\n",
    "ax2.errorbar(x_pos, 100*stats[\"ood_rule_1\"].mean(), yerr=10*stats[\"ood_rule_1\"].std(), fmt='o', label=\"R1\")\n",
    "ax2.errorbar(x_pos, 100*stats[\"ood_rule_2\"].mean(), yerr=10*stats[\"ood_rule_2\"].std(), fmt='o', label=\"R2\")\n",
    "ax2.errorbar(x_pos, 100*stats[\"ood_rule_2_completion\"].mean(), yerr=10*stats[\"ood_rule_2_completion\"].std(), fmt='o', label=\"R2 (compl)\")\n",
    "\n",
    "\n",
    "# set xtick names\n",
    "ax2.set_xticks(x_pos)\n",
    "ax2.set_xticklabels(stats[\"rule_1\"].groups.keys())\n",
    "ax2.set_ylabel(\"Accuracy (\\%)\", labelpad=LABELPAD)\n",
    "\n",
    "\n",
    "plt.legend()\n",
    "ax.tick_params(axis='both', which='major', pad=TICK_PADDING)\n"
   ],
   "metadata": {
    "collapsed": false
   }
  },
  {
   "cell_type": "code",
   "execution_count": null,
   "outputs": [],
   "source": [
    "brackets_stats[\"val_loss\"].mean()\n"
   ],
   "metadata": {
    "collapsed": false
   }
  },
  {
   "cell_type": "code",
   "execution_count": null,
   "outputs": [],
   "source": [
    "brackets_df[brackets_df.model ==\"linear\"].min_val_loss"
   ],
   "metadata": {
    "collapsed": false
   }
  },
  {
   "cell_type": "code",
   "execution_count": null,
   "outputs": [],
   "source": [
    "brackets_stats[\"val_loss\"].groups.keys()"
   ],
   "metadata": {
    "collapsed": false
   }
  },
  {
   "cell_type": "code",
   "execution_count": null,
   "outputs": [],
   "source": [
    "TICK_PADDING = 2\n",
    "LABELPAD = 1\n",
    "cmap = \"coolwarm\"\n",
    "df = brackets_df\n",
    "stats = brackets_stats\n",
    "\n",
    "fig = plt.figure(figsize=figsizes.icml2022_full(nrows=1, ncols=2)['figure.figsize'])\n",
    "\n",
    "ax = fig.add_subplot(121)\n",
    "ax.grid(True, which=\"both\", ls=\"-.\")\n",
    "ax.set_axisbelow(True)\n",
    "\n",
    "for model in stats[\"val_loss\"].groups.keys():\n",
    "    df[df.model==model].min_val_loss\n",
    "    im = ax.scatter(df[df.model==model].min_val_loss, 100*df[df.model==model].ood_rule_1_accuracy4min_val_loss, cmap=cmap, label=model)\n",
    "\n",
    "\n",
    "ax.set_ylabel(\"R1 \\%\", labelpad=LABELPAD)\n",
    "ax.set_xlabel(\"Minimum test loss\", labelpad=LABELPAD)\n",
    "# plt.legend()\n",
    "ax.tick_params(axis='both', which='major', pad=TICK_PADDING)\n",
    "\n",
    "ax = fig.add_subplot(122)\n",
    "ax.grid(True, which=\"both\", ls=\"-.\")\n",
    "ax.set_axisbelow(True)\n",
    "\n",
    "for model in stats[\"val_loss\"].groups.keys():\n",
    "    df[df.model==model].min_val_loss\n",
    "    im = ax.scatter(df[df.model==model].min_val_loss, 100*df[df.model==model].ood_rule_2_completion_accuracy4min_val_loss, cmap=cmap, label=model)\n",
    "\n",
    "\n",
    "ax.set_ylabel(\"R2 completion (\\%)\", labelpad=LABELPAD)\n",
    "ax.set_xlabel(\"Minimum test loss\", labelpad=LABELPAD)\n",
    "plt.legend(loc='lower center')\n",
    "ax.tick_params(axis='both', which='major', pad=TICK_PADDING)\n",
    "\n",
    "\n",
    "# plt.savefig(\"adversarial_rule_extrapolation.svg\")"
   ],
   "metadata": {
    "collapsed": false
   }
  }
 ],
 "metadata": {
  "kernelspec": {
   "display_name": "Python 3",
   "language": "python",
   "name": "python3"
  },
  "language_info": {
   "codemirror_mode": {
    "name": "ipython",
    "version": 2
   },
   "file_extension": ".py",
   "mimetype": "text/x-python",
   "name": "python",
   "nbconvert_exporter": "python",
   "pygments_lexer": "ipython2",
   "version": "2.7.6"
  }
 },
 "nbformat": 4,
 "nbformat_minor": 0
}
