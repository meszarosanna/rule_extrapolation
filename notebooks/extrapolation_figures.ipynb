{
 "cells": [
  {
   "cell_type": "markdown",
   "source": [
    "# Setup and imports"
   ],
   "metadata": {
    "collapsed": false
   }
  },
  {
   "cell_type": "code",
   "execution_count": 95,
   "metadata": {
    "collapsed": true,
    "ExecuteTime": {
     "end_time": "2024-05-16T14:30:44.805554Z",
     "start_time": "2024-05-16T14:30:43.564021Z"
    }
   },
   "outputs": [
    {
     "name": "stdout",
     "output_type": "stream",
     "text": [
      "The autoreload extension is already loaded. To reload it, use:\n",
      "  %reload_ext autoreload\n"
     ]
    }
   ],
   "source": [
    "# imports\n",
    "import numpy as np\n",
    "from tueplots import bundles, figsizes\n",
    "import wandb\n",
    "import matplotlib.pyplot as plt\n",
    "import matplotlib.lines as mlines\n",
    "import pandas as pd\n",
    "\n",
    "\n",
    "import sys\n",
    "\n",
    "%load_ext autoreload\n",
    "%autoreload 2\n",
    "\n",
    "sys.path.insert(0, '.')"
   ]
  },
  {
   "cell_type": "code",
   "execution_count": 96,
   "outputs": [],
   "source": [
    "from analysis import sweep2df, plot_typography, stats2string, RED, BLUE, rule_stats2string_per_model"
   ],
   "metadata": {
    "collapsed": false,
    "ExecuteTime": {
     "end_time": "2024-05-16T14:30:44.807050Z",
     "start_time": "2024-05-16T14:30:44.799405Z"
    }
   }
  },
  {
   "cell_type": "code",
   "execution_count": 97,
   "outputs": [],
   "source": [
    "USETEX = True"
   ],
   "metadata": {
    "collapsed": false,
    "ExecuteTime": {
     "end_time": "2024-05-16T14:30:44.807437Z",
     "start_time": "2024-05-16T14:30:44.799840Z"
    }
   }
  },
  {
   "cell_type": "code",
   "execution_count": 98,
   "outputs": [],
   "source": [
    "plt.rcParams.update(bundles.icml2022(usetex=USETEX))\n",
    "# plt.rcParams.update({\n",
    "#     'text.latex.preamble': [r'\\usepackage{amsfonts}', # mathbb\n",
    "#                             r'\\usepackage{amsmath}'] # boldsymbol\n",
    "# })"
   ],
   "metadata": {
    "collapsed": false,
    "ExecuteTime": {
     "end_time": "2024-05-16T14:30:44.807688Z",
     "start_time": "2024-05-16T14:30:44.800054Z"
    }
   }
  },
  {
   "cell_type": "code",
   "execution_count": 99,
   "outputs": [],
   "source": [
    "plot_typography(usetex=USETEX, small=12, medium=16, big=20)\n"
   ],
   "metadata": {
    "collapsed": false,
    "ExecuteTime": {
     "end_time": "2024-05-16T14:30:44.809057Z",
     "start_time": "2024-05-16T14:30:44.800272Z"
    }
   }
  },
  {
   "cell_type": "code",
   "execution_count": 100,
   "outputs": [],
   "source": [
    "# Constants\n",
    "ENTITY = \"causal-representation-learning\"\n",
    "PROJECT = \"rule_extrapolation\"\n",
    "\n",
    "# W&B API\n",
    "api = wandb.Api(timeout=200)\n",
    "runs = api.runs(ENTITY + \"/\" + PROJECT)"
   ],
   "metadata": {
    "collapsed": false,
    "ExecuteTime": {
     "end_time": "2024-05-16T14:30:51.646313Z",
     "start_time": "2024-05-16T14:30:51.004192Z"
    }
   }
  },
  {
   "cell_type": "markdown",
   "source": [
    "# Data loading"
   ],
   "metadata": {
    "collapsed": false
   }
  },
  {
   "cell_type": "markdown",
   "source": [
    "## baN"
   ],
   "metadata": {
    "collapsed": false
   }
  },
  {
   "cell_type": "code",
   "execution_count": 122,
   "outputs": [],
   "source": [
    "SWEEP_ID = \"y2193u7e\"\n",
    "sweep = api.sweep(f\"{ENTITY}/{PROJECT}/{SWEEP_ID}\")\n",
    "filename = f\"ban_{SWEEP_ID}\"\n",
    "ban_df,ban_train_loss,ban_val_loss,ban_val_kl,ban_val_accuracy,ban_finised,ban_ood_finised,ban_sos_finised,ban_r1,ban_r2,ban_grammatical,ban_ood_r1,ban_ood_r1_completion,ban_ood_r2,ban_ood_grammatical,ban_sos_r1,ban_sos_r2,ban_sos_grammatical= sweep2df(sweep.runs, filename, save=True, load=False)"
   ],
   "metadata": {
    "collapsed": false,
    "ExecuteTime": {
     "end_time": "2024-05-16T15:48:47.308397Z",
     "start_time": "2024-05-16T15:46:39.068214Z"
    }
   }
  },
  {
   "cell_type": "markdown",
   "source": [
    "## bbaN"
   ],
   "metadata": {
    "collapsed": false
   }
  },
  {
   "cell_type": "code",
   "execution_count": 114,
   "outputs": [],
   "source": [
    "SWEEP_ID = \"f9m6ueta\"  #\"49rb3sn2\"\n",
    "sweep = api.sweep(f\"{ENTITY}/{PROJECT}/{SWEEP_ID}\")\n",
    "filename = f\"bban_{SWEEP_ID}\"\n",
    "bban_df,bban_train_loss,bban_val_loss,bban_val_kl,bban_val_accuracy,bban_finised,bban_ood_finised,bban_sos_finised,bban_r1,bban_r2,bban_grammatical,bban_ood_r1,bban_ood_r1_completion,bban_ood_r2,bban_ood_grammatical,bban_sos_r1,bban_sos_r2,bban_sos_grammatical= sweep2df(sweep.runs, filename, save=True, load=False)"
   ],
   "metadata": {
    "collapsed": false,
    "ExecuteTime": {
     "end_time": "2024-05-16T15:06:04.737783Z",
     "start_time": "2024-05-16T15:05:01.967615Z"
    }
   }
  },
  {
   "cell_type": "code",
   "execution_count": 115,
   "outputs": [],
   "source": [
    "SWEEP_ID = \"49rb3sn2\"\n",
    "sweep = api.sweep(f\"{ENTITY}/{PROJECT}/{SWEEP_ID}\")\n",
    "filename = f\"bban_non_transformer_15k_{SWEEP_ID}\"\n",
    "bban_non_transformer_15k_df,bban_non_transformer_15k_train_loss,bban_non_transformer_15k_val_loss,bban_non_transformer_15k_val_kl,bban_non_transformer_15k_val_accuracy,bban_non_transformer_15k_finised,bban_non_transformer_15k_ood_finised,bban_non_transformer_15k_sos_finised,bban_non_transformer_15k_r1,bban_non_transformer_15k_r2,bban_non_transformer_15k_grammatical,bban_non_transformer_15k_ood_r1,bban_non_transformer_15k_ood_r1_completion,bban_non_transformer_15k_ood_r2,bban_non_transformer_15k_ood_grammatical,bban_non_transformer_15k_sos_r1,bban_non_transformer_15k_sos_r2,bban_non_transformer_15k_sos_grammatical= sweep2df(sweep.runs, filename, save=True, load=False)"
   ],
   "metadata": {
    "collapsed": false,
    "ExecuteTime": {
     "end_time": "2024-05-16T15:07:08.658338Z",
     "start_time": "2024-05-16T15:06:04.755612Z"
    }
   }
  },
  {
   "cell_type": "code",
   "execution_count": 116,
   "outputs": [],
   "source": [
    "SWEEP_ID = \"qne9hmbu\"  #\"49rb3sn2\"\n",
    "sweep = api.sweep(f\"{ENTITY}/{PROJECT}/{SWEEP_ID}\")\n",
    "filename = f\"bban_transformer_15k_{SWEEP_ID}\"\n",
    "bban_transformer_15k_df,bban_transformer_15k_train_loss,bban_transformer_15k_val_loss,bban_transformer_15k_val_kl,bban_transformer_15k_val_accuracy,bban_transformer_15k_finised,bban_transformer_15k_ood_finised,bban_transformer_15k_sos_finised,bban_transformer_15k_r1,bban_transformer_15k_r2,bban_transformer_15k_grammatical,bban_transformer_15k_ood_r1,bban_transformer_15k_ood_r1_completion,bban_transformer_15k_ood_r2,bban_transformer_15k_ood_grammatical,bban_transformer_15k_sos_r1,bban_transformer_15k_sos_r2,bban_transformer_15k_sos_grammatical= sweep2df(sweep.runs, filename, save=True, load=False)"
   ],
   "metadata": {
    "collapsed": false,
    "ExecuteTime": {
     "end_time": "2024-05-16T15:09:22.419431Z",
     "start_time": "2024-05-16T15:07:08.657869Z"
    }
   }
  },
  {
   "cell_type": "code",
   "execution_count": 117,
   "outputs": [],
   "source": [
    "bban_df_merged = pd.concat([bban_df, bban_non_transformer_15k_df, bban_transformer_15k_df])"
   ],
   "metadata": {
    "collapsed": false,
    "ExecuteTime": {
     "end_time": "2024-05-16T15:09:22.455858Z",
     "start_time": "2024-05-16T15:09:22.422255Z"
    }
   }
  },
  {
   "cell_type": "markdown",
   "source": [
    "## aNbN"
   ],
   "metadata": {
    "collapsed": false
   }
  },
  {
   "cell_type": "code",
   "execution_count": 123,
   "outputs": [],
   "source": [
    "SWEEP_ID = \"nfrfpkqm\"\n",
    "sweep = api.sweep(f\"{ENTITY}/{PROJECT}/{SWEEP_ID}\")\n",
    "filename = f\"anbn_{SWEEP_ID}\"\n",
    "anbn_df,anbn_train_loss,anbn_val_loss,anbn_val_kl,anbn_val_accuracy,anbn_finised,anbn_ood_finised,anbn_sos_finised,anbn_r1,anbn_r2,anbn_grammatical,anbn_ood_r1,anbn_ood_r1_completion,anbn_ood_r2,anbn_ood_grammatical,anbn_sos_r1,anbn_sos_r2,anbn_sos_grammatical= sweep2df(sweep.runs, filename, save=True, load=False)"
   ],
   "metadata": {
    "collapsed": false,
    "ExecuteTime": {
     "end_time": "2024-05-16T15:51:02.898239Z",
     "start_time": "2024-05-16T15:48:47.349445Z"
    }
   }
  },
  {
   "cell_type": "code",
   "execution_count": 124,
   "outputs": [],
   "source": [
    "SWEEP_ID = \"t4yzbech\"\n",
    "sweep = api.sweep(f\"{ENTITY}/{PROJECT}/{SWEEP_ID}\")\n",
    "filename = f\"anbn_lstm_{SWEEP_ID}\"\n",
    "anbn_lstm_df,anbn_lstm_train_loss,anbn_lstm_val_loss,anbn_lstm_val_kl,anbn_lstm_val_accuracy,anbn_lstm_finised,anbn_lstm_ood_finised,anbn_lstm_sos_finised,anbn_lstm_r1,anbn_lstm_r2,anbn_lstm_grammatical,anbn_lstm_ood_r1,anbn_lstm_ood_r1_completion,anbn_lstm_ood_r2,anbn_lstm_ood_grammatical,anbn_lstm_sos_r1,anbn_lstm_sos_r2,anbn_lstm_sos_grammatical= sweep2df(sweep.runs, filename, save=True, load=False)"
   ],
   "metadata": {
    "collapsed": false,
    "ExecuteTime": {
     "end_time": "2024-05-16T15:51:24.506977Z",
     "start_time": "2024-05-16T15:51:02.897701Z"
    }
   }
  },
  {
   "cell_type": "code",
   "execution_count": 125,
   "outputs": [],
   "source": [
    "SWEEP_ID = \"o27zaphz\"\n",
    "sweep = api.sweep(f\"{ENTITY}/{PROJECT}/{SWEEP_ID}\")\n",
    "filename = f\"anbn_mamba_{SWEEP_ID}\"\n",
    "anbn_mamba_df,anbn_mamba_train_loss,anbn_mamba_val_loss,anbn_mamba_val_kl,anbn_mamba_val_accuracy,anbn_mamba_finised,anbn_mamba_ood_finised,anbn_mamba_sos_finised,anbn_mamba_r1,anbn_mamba_r2,anbn_mamba_grammatical,anbn_mamba_ood_r1,anbn_mamba_ood_r1_completion,anbn_mamba_ood_r2,anbn_mamba_ood_grammatical,anbn_mamba_sos_r1,anbn_mamba_sos_r2,anbn_mamba_sos_grammatical= sweep2df(sweep.runs, filename, save=True, load=False)"
   ],
   "metadata": {
    "collapsed": false,
    "ExecuteTime": {
     "end_time": "2024-05-16T15:51:56.600773Z",
     "start_time": "2024-05-16T15:51:24.514796Z"
    }
   }
  },
  {
   "cell_type": "code",
   "execution_count": 126,
   "outputs": [],
   "source": [
    "anbn_df_merged = pd.concat([anbn_df, anbn_lstm_df, anbn_mamba_df])"
   ],
   "metadata": {
    "collapsed": false,
    "ExecuteTime": {
     "end_time": "2024-05-16T15:51:56.601451Z",
     "start_time": "2024-05-16T15:51:47.198571Z"
    }
   }
  },
  {
   "cell_type": "markdown",
   "source": [
    "## aNbNcN"
   ],
   "metadata": {
    "collapsed": false
   }
  },
  {
   "cell_type": "code",
   "execution_count": 127,
   "outputs": [],
   "source": [
    "SWEEP_ID = \"6m1qb70e\"\n",
    "sweep = api.sweep(f\"{ENTITY}/{PROJECT}/{SWEEP_ID}\")\n",
    "filename = f\"anbncn_{SWEEP_ID}\"\n",
    "anbncn_df,anbncn_train_loss,anbncn_val_loss,anbncn_val_kl,anbncn_val_accuracy,anbncn_finised,anbncn_ood_finised,anbncn_sos_finised,anbncn_r1,anbncn_r2,anbncn_grammatical,anbncn_ood_r1,anbncn_ood_r1_completion,anbncn_ood_r2,anbncn_ood_grammatical,anbncn_sos_r1,anbncn_sos_r2,anbncn_sos_grammatical= sweep2df(sweep.runs, filename, save=True, load=False)"
   ],
   "metadata": {
    "collapsed": false,
    "ExecuteTime": {
     "end_time": "2024-05-16T15:55:05.061842Z",
     "start_time": "2024-05-16T15:51:56.601151Z"
    }
   }
  },
  {
   "cell_type": "code",
   "execution_count": 128,
   "outputs": [],
   "source": [
    "SWEEP_ID = \"vtji6cx4\"\n",
    "sweep = api.sweep(f\"{ENTITY}/{PROJECT}/{SWEEP_ID}\")\n",
    "filename = f\"anbncn_lin_mamba_{SWEEP_ID}\"\n",
    "anbncn_lin_mamba_df,anbncn_lin_mamba_train_loss,anbncn_lin_mamba_val_loss,anbncn_lin_mamba_val_kl,anbncn_lin_mamba_val_accuracy,anbncn_lin_mamba_finised,anbncn_lin_mamba_ood_finised,anbncn_lin_mamba_sos_finised,anbncn_lin_mamba_r1,anbncn_lin_mamba_r2,anbncn_lin_mamba_grammatical,anbncn_lin_mamba_ood_r1,anbncn_lin_mamba_ood_r1_completion,anbncn_lin_mamba_ood_r2,anbncn_lin_mamba_ood_grammatical,anbncn_lin_mamba_sos_r1,anbncn_lin_mamba_sos_r2,anbncn_lin_mamba_sos_grammatical= sweep2df(sweep.runs, filename, save=True, load=False)"
   ],
   "metadata": {
    "collapsed": false,
    "ExecuteTime": {
     "end_time": "2024-05-16T15:56:03.308275Z",
     "start_time": "2024-05-16T15:55:05.069815Z"
    }
   }
  },
  {
   "cell_type": "code",
   "execution_count": 129,
   "outputs": [],
   "source": [
    "anbncn_df_merged = pd.concat([anbncn_df, anbncn_lin_mamba_df])"
   ],
   "metadata": {
    "collapsed": false,
    "ExecuteTime": {
     "end_time": "2024-05-16T15:56:03.312995Z",
     "start_time": "2024-05-16T15:56:03.308848Z"
    }
   }
  },
  {
   "cell_type": "markdown",
   "source": [
    "## Matched brackets and parentheses"
   ],
   "metadata": {
    "collapsed": false
   }
  },
  {
   "cell_type": "code",
   "execution_count": 131,
   "outputs": [],
   "source": [
    "SWEEP_ID = \"r9wywplg\"\n",
    "sweep = api.sweep(f\"{ENTITY}/{PROJECT}/{SWEEP_ID}\")\n",
    "filename = f\"brackets_{SWEEP_ID}\"\n",
    "brackets_df,brackets_train_loss,brackets_val_loss,brackets_val_kl,brackets_val_accuracy,brackets_finised,brackets_ood_finised,brackets_sos_finised,brackets_r1,brackets_r2,brackets_grammatical,brackets_ood_r1,brackets_ood_r1_completion,brackets_ood_r2,brackets_ood_grammatical,brackets_sos_r1,brackets_sos_r2,brackets_sos_grammatical= sweep2df(sweep.runs, filename, save=True, load=False)"
   ],
   "metadata": {
    "collapsed": false,
    "ExecuteTime": {
     "end_time": "2024-05-16T16:02:31.970852Z",
     "start_time": "2024-05-16T15:59:44.008540Z"
    }
   }
  },
  {
   "cell_type": "code",
   "execution_count": 132,
   "outputs": [],
   "source": [
    "SWEEP_ID = \"g6yifhbz\"\n",
    "sweep = api.sweep(f\"{ENTITY}/{PROJECT}/{SWEEP_ID}\")\n",
    "filename = f\"brackets_lin_mamba_{SWEEP_ID}\"\n",
    "brackets_lin_mamba_df,brackets_lin_mamba_train_loss,brackets_lin_mamba_val_loss,brackets_lin_mamba_val_kl,brackets_lin_mamba_val_accuracy,brackets_lin_mamba_finised,brackets_lin_mamba_ood_finised,brackets_lin_mamba_sos_finised,brackets_lin_mamba_r1,brackets_lin_mamba_r2,brackets_lin_mamba_grammatical,brackets_lin_mamba_ood_r1,brackets_lin_mamba_ood_r1_completion,brackets_lin_mamba_ood_r2,brackets_lin_mamba_ood_grammatical,brackets_lin_mamba_sos_r1,brackets_lin_mamba_sos_r2,brackets_lin_mamba_sos_grammatical= sweep2df(sweep.runs, filename, save=True, load=False)"
   ],
   "metadata": {
    "collapsed": false,
    "ExecuteTime": {
     "end_time": "2024-05-16T16:03:38.194252Z",
     "start_time": "2024-05-16T16:02:31.951141Z"
    }
   }
  },
  {
   "cell_type": "code",
   "execution_count": 133,
   "outputs": [],
   "source": [
    "brackets_df_merged = pd.concat([brackets_df, brackets_lin_mamba_df])"
   ],
   "metadata": {
    "collapsed": false,
    "ExecuteTime": {
     "end_time": "2024-05-16T16:03:38.247035Z",
     "start_time": "2024-05-16T16:03:38.202027Z"
    }
   }
  },
  {
   "cell_type": "markdown",
   "source": [
    "## Human study"
   ],
   "metadata": {
    "collapsed": false
   }
  },
  {
   "cell_type": "code",
   "execution_count": null,
   "outputs": [],
   "source": [
    "human_df = pd.read_excel(\"human_study.xlsx\")"
   ],
   "metadata": {
    "collapsed": false
   }
  },
  {
   "cell_type": "code",
   "execution_count": null,
   "outputs": [],
   "source": [
    "human_df"
   ],
   "metadata": {
    "collapsed": false
   }
  },
  {
   "cell_type": "code",
   "execution_count": null,
   "outputs": [],
   "source": [
    "# processing steps\n",
    "# strips whitespace\n",
    "# convert characters to lowercase\n",
    "# convert symbols to the tokens in data.py"
   ],
   "metadata": {
    "collapsed": false
   }
  },
  {
   "cell_type": "markdown",
   "source": [
    "\n",
    "# Plots"
   ],
   "metadata": {
    "collapsed": false
   }
  },
  {
   "cell_type": "markdown",
   "source": [
    "## helper functions\n"
   ],
   "metadata": {
    "collapsed": false
   }
  },
  {
   "cell_type": "code",
   "execution_count": 103,
   "outputs": [],
   "source": [
    "# group by model\n",
    "\n",
    "def grouped_rule_stats(df):\n",
    "    grouped_df = df.groupby(\"model\")\n",
    "\n",
    "    stats = {}\n",
    "\n",
    "    stats[\"val_loss\"] = grouped_df.min_val_loss\n",
    "\n",
    "    stats[\"rule_1\"] = grouped_df.rule_1_accuracy4min_val_loss\n",
    "    stats[\"rule_2\"] = grouped_df.rule_2_accuracy4min_val_loss\n",
    "    stats[\"grammatical\"] = grouped_df.grammatical_accuracy4min_val_loss\n",
    "    stats[\"finished\"] = grouped_df.finished4min_val_loss\n",
    "\n",
    "    stats[\"ood_rule_1\"] = grouped_df.ood_rule_1_accuracy4min_val_loss\n",
    "    stats[\"ood_rule_2\"] = grouped_df.ood_rule_2_accuracy4min_val_loss\n",
    "    stats[\"ood_rule_2_completion\"] = grouped_df.ood_rule_2_completion_accuracy4min_val_loss\n",
    "    stats[\"ood_grammatical\"] = grouped_df.ood_grammatical_accuracy4min_val_loss\n",
    "    stats[\"ood_finished\"] = grouped_df.ood_finished4min_val_loss\n",
    "\n",
    "    stats[\"sos_rule_1\"] = grouped_df.sos_rule_1_accuracy4min_val_loss\n",
    "    stats[\"sos_rule_2\"] = grouped_df.sos_rule_2_accuracy4min_val_loss\n",
    "    stats[\"sos_grammatical\"] = grouped_df.sos_grammatical_accuracy4min_val_loss\n",
    "    stats[\"sos_finished\"] = grouped_df.sos_finished4min_val_loss\n",
    "\n",
    "    return stats\n"
   ],
   "metadata": {
    "collapsed": false,
    "ExecuteTime": {
     "end_time": "2024-05-16T14:33:06.925147Z",
     "start_time": "2024-05-16T14:33:06.886495Z"
    }
   }
  },
  {
   "cell_type": "code",
   "execution_count": 134,
   "outputs": [],
   "source": [
    "ban_stats = grouped_rule_stats(ban_df)\n",
    "bban_stats = grouped_rule_stats(bban_df_merged)\n",
    "anbn_stats = grouped_rule_stats(anbn_df_merged)\n",
    "anbncn_stats = grouped_rule_stats(anbncn_df_merged)\n",
    "brackets_stats = grouped_rule_stats(brackets_df_merged)"
   ],
   "metadata": {
    "collapsed": false,
    "ExecuteTime": {
     "end_time": "2024-05-16T16:03:38.337658Z",
     "start_time": "2024-05-16T16:03:38.259619Z"
    }
   }
  },
  {
   "cell_type": "code",
   "execution_count": 105,
   "outputs": [],
   "source": [
    "def plot_loss_vs_rules(df, stats, cmap=\"coolwarm\", TICK_PADDING=2, LABELPAD=1, filename=None):\n",
    "\n",
    "    colors = {\n",
    "        \"transformer\": \"tab:blue\",\n",
    "        \"lstm\": \"tab:orange\",\n",
    "        \"linear\": \"tab:green\",\n",
    "        \"mamba\": \"tab:red\"\n",
    "        }\n",
    "\n",
    "\n",
    "    fig = plt.figure(figsize=figsizes.icml2022_full(nrows=1, ncols=2)['figure.figsize'])\n",
    "    ax = fig.add_subplot(121)\n",
    "    ax.grid(True, which=\"both\", ls=\"-.\")\n",
    "    ax.set_axisbelow(True)\n",
    "    for model in stats[\"val_loss\"].groups.keys():\n",
    "\n",
    "        im = ax.scatter(df[df.model == model].min_val_loss,\n",
    "                        100 * df[df.model == model].ood_rule_1_accuracy4min_val_loss, c=colors[model], label=model)\n",
    "    ax.set_ylabel(\"R1 \\%\", labelpad=LABELPAD)\n",
    "    ax.set_xlabel(\"Minimum test loss\", labelpad=LABELPAD)\n",
    "    # plt.legend()\n",
    "    ax.tick_params(axis='both', which='major', pad=TICK_PADDING)\n",
    "    ax = fig.add_subplot(122)\n",
    "    ax.grid(True, which=\"both\", ls=\"-.\")\n",
    "    ax.set_axisbelow(True)\n",
    "    for model in stats[\"val_loss\"].groups.keys():\n",
    "        im = ax.scatter(df[df.model == model].min_val_loss,\n",
    "                        100 * df[df.model == model].ood_rule_2_completion_accuracy4min_val_loss, c=colors[model], label=model)\n",
    "    ax.set_ylabel(\"R2 completion (\\%)\", labelpad=LABELPAD)\n",
    "    ax.set_xlabel(\"Minimum test loss\", labelpad=LABELPAD)\n",
    "    plt.legend(loc='lower center')\n",
    "    ax.tick_params(axis='both', which='major', pad=TICK_PADDING)\n",
    "\n",
    "    if filename is not None:\n",
    "        plt.savefig(f\"{filename}.svg\")"
   ],
   "metadata": {
    "collapsed": false,
    "ExecuteTime": {
     "end_time": "2024-05-16T14:33:07.054524Z",
     "start_time": "2024-05-16T14:33:06.993298Z"
    }
   }
  },
  {
   "cell_type": "markdown",
   "source": [
    "## baN"
   ],
   "metadata": {
    "collapsed": false
   }
  },
  {
   "cell_type": "code",
   "execution_count": 135,
   "outputs": [
    {
     "data": {
      "text/plain": "<Figure size 486x150.182 with 2 Axes>",
      "image/png": "[encoded data removed]"
     },
     "metadata": {
      "needs_background": "light"
     },
     "output_type": "display_data"
    }
   ],
   "source": [
    "plot_loss_vs_rules(ban_df, ban_stats, filename=\"ban_loss_vs_rules\")"
   ],
   "metadata": {
    "collapsed": false,
    "ExecuteTime": {
     "end_time": "2024-05-16T16:03:40.853239Z",
     "start_time": "2024-05-16T16:03:38.338466Z"
    }
   }
  },
  {
   "cell_type": "code",
   "execution_count": 145,
   "outputs": [
    {
     "name": "stdout",
     "output_type": "stream",
     "text": [
      "------------------------------\n",
      "Model order is=['linear', 'lstm', 'mamba', 'transformer']\n",
      "Plot order is=('val_loss', 'rule_1', 'rule_2', 'ood_rule_1', 'ood_rule_2_completion')\n",
      "------------------------------\n",
      "Linear &$0.023\\scriptscriptstyle\\pm 0.006$ & $0.438\\scriptscriptstyle\\pm 0.177$ & $0.875\\scriptscriptstyle\\pm 0.354$ & $0.438\\scriptscriptstyle\\pm 0.177$ & $0.000\\scriptscriptstyle\\pm 0.000$ & \n",
      "Lstm &$0.275\\scriptscriptstyle\\pm 0.009$ & $0.958\\scriptscriptstyle\\pm 0.012$ & $1.000\\scriptscriptstyle\\pm 0.000$ & $0.661\\scriptscriptstyle\\pm 0.153$ & $0.543\\scriptscriptstyle\\pm 0.168$ & \n",
      "Mamba &$0.275\\scriptscriptstyle\\pm 0.007$ & $0.965\\scriptscriptstyle\\pm 0.005$ & $1.000\\scriptscriptstyle\\pm 0.000$ & $0.578\\scriptscriptstyle\\pm 0.031$ & $0.639\\scriptscriptstyle\\pm 0.055$ & \n",
      "Transformer &$0.278\\scriptscriptstyle\\pm 0.002$ & $0.333\\scriptscriptstyle\\pm 0.577$ & $1.000\\scriptscriptstyle\\pm 0.000$ & $0.472\\scriptscriptstyle\\pm 0.411$ & $0.556\\scriptscriptstyle\\pm 0.509$ & \n"
     ]
    },
    {
     "data": {
      "text/plain": "[]"
     },
     "execution_count": 145,
     "metadata": {},
     "output_type": "execute_result"
    }
   ],
   "source": [
    "rule_stats2string_per_model(ban_stats)"
   ],
   "metadata": {
    "collapsed": false,
    "ExecuteTime": {
     "end_time": "2024-05-16T16:06:41.243292Z",
     "start_time": "2024-05-16T16:06:41.186041Z"
    }
   }
  },
  {
   "cell_type": "markdown",
   "source": [
    "## bbaN"
   ],
   "metadata": {
    "collapsed": false
   }
  },
  {
   "cell_type": "code",
   "execution_count": 136,
   "outputs": [
    {
     "data": {
      "text/plain": "<Figure size 486x150.182 with 2 Axes>",
      "image/png": "[encoded data removed]"
     },
     "metadata": {
      "needs_background": "light"
     },
     "output_type": "display_data"
    }
   ],
   "source": [
    "plot_loss_vs_rules(bban_df, bban_stats, filename=\"bban_loss_vs_rules\")"
   ],
   "metadata": {
    "collapsed": false,
    "ExecuteTime": {
     "end_time": "2024-05-16T16:03:42.054852Z",
     "start_time": "2024-05-16T16:03:40.850706Z"
    }
   }
  },
  {
   "cell_type": "code",
   "execution_count": 137,
   "outputs": [
    {
     "name": "stdout",
     "output_type": "stream",
     "text": [
      "------------------------------\n",
      "Model order is=['linear', 'lstm', 'mamba', 'transformer']\n",
      "Plot order is=('val_loss', 'rule_1', 'rule_2', 'ood_rule_1', 'ood_rule_2_completion')\n",
      "------------------------------\n",
      "Linear &$0.022\\scriptscriptstyle\\pm 0.005$ & $0.367\\scriptscriptstyle\\pm 0.022$ & $1.000\\scriptscriptstyle\\pm 0.000$ & $0.473\\scriptscriptstyle\\pm 0.050$ & $0.000\\scriptscriptstyle\\pm 0.000$ & \n",
      "Lstm &$0.037\\scriptscriptstyle\\pm 0.000$ & $1.000\\scriptscriptstyle\\pm 0.000$ & $1.000\\scriptscriptstyle\\pm 0.000$ & $1.000\\scriptscriptstyle\\pm 0.000$ & $0.000\\scriptscriptstyle\\pm 0.000$ & \n",
      "Mamba &$0.039\\scriptscriptstyle\\pm nan$ & $1.000\\scriptscriptstyle\\pm nan$ & $1.000\\scriptscriptstyle\\pm nan$ & $1.000\\scriptscriptstyle\\pm nan$ & $0.000\\scriptscriptstyle\\pm nan$ & \n",
      "Transformer &$0.040\\scriptscriptstyle\\pm 0.001$ & $0.165\\scriptscriptstyle\\pm 0.295$ & $0.270\\scriptscriptstyle\\pm 0.450$ & $0.169\\scriptscriptstyle\\pm 0.280$ & $0.000\\scriptscriptstyle\\pm 0.000$ & \n"
     ]
    },
    {
     "data": {
      "text/plain": "[]"
     },
     "execution_count": 137,
     "metadata": {},
     "output_type": "execute_result"
    }
   ],
   "source": [
    "rule_stats2string_per_model(bban_stats)"
   ],
   "metadata": {
    "collapsed": false,
    "ExecuteTime": {
     "end_time": "2024-05-16T16:03:42.172701Z",
     "start_time": "2024-05-16T16:03:42.047625Z"
    }
   }
  },
  {
   "cell_type": "markdown",
   "source": [
    "## aNbN"
   ],
   "metadata": {
    "collapsed": false
   }
  },
  {
   "cell_type": "code",
   "execution_count": 138,
   "outputs": [
    {
     "data": {
      "text/plain": "<Figure size 486x150.182 with 2 Axes>",
      "image/png": "[encoded data removed]"
     },
     "metadata": {
      "needs_background": "light"
     },
     "output_type": "display_data"
    }
   ],
   "source": [
    "plot_loss_vs_rules(anbn_df, anbn_stats, filename=\"anbn_loss_vs_rules\")"
   ],
   "metadata": {
    "collapsed": false,
    "ExecuteTime": {
     "end_time": "2024-05-16T16:03:47.418207Z",
     "start_time": "2024-05-16T16:03:42.107566Z"
    }
   }
  },
  {
   "cell_type": "code",
   "execution_count": 139,
   "outputs": [
    {
     "name": "stdout",
     "output_type": "stream",
     "text": [
      "------------------------------\n",
      "Model order is=['linear', 'lstm', 'mamba', 'transformer']\n",
      "Plot order is=('val_loss', 'rule_1', 'rule_2', 'ood_rule_1', 'ood_rule_2_completion')\n",
      "------------------------------\n",
      "Linear &$0.000\\scriptscriptstyle\\pm 0.000$ & $0.200\\scriptscriptstyle\\pm 0.000$ & $1.000\\scriptscriptstyle\\pm 0.000$ & $0.275\\scriptscriptstyle\\pm 0.000$ & $1.000\\scriptscriptstyle\\pm 0.000$ & \n",
      "Lstm &$0.019\\scriptscriptstyle\\pm 0.000$ & $1.000\\scriptscriptstyle\\pm 0.000$ & $1.000\\scriptscriptstyle\\pm 0.000$ & $0.376\\scriptscriptstyle\\pm 0.209$ & $1.000\\scriptscriptstyle\\pm 0.000$ & \n",
      "Mamba &$0.019\\scriptscriptstyle\\pm 0.000$ & $1.000\\scriptscriptstyle\\pm 0.000$ & $1.000\\scriptscriptstyle\\pm 0.000$ & $0.290\\scriptscriptstyle\\pm 0.040$ & $1.000\\scriptscriptstyle\\pm 0.000$ & \n",
      "Transformer &$0.020\\scriptscriptstyle\\pm 0.001$ & $1.000\\scriptscriptstyle\\pm 0.000$ & $1.000\\scriptscriptstyle\\pm 0.000$ & $0.609\\scriptscriptstyle\\pm 0.071$ & $1.000\\scriptscriptstyle\\pm 0.000$ & \n"
     ]
    },
    {
     "data": {
      "text/plain": "[]"
     },
     "execution_count": 139,
     "metadata": {},
     "output_type": "execute_result"
    }
   ],
   "source": [
    "rule_stats2string_per_model(anbn_stats)"
   ],
   "metadata": {
    "collapsed": false,
    "ExecuteTime": {
     "end_time": "2024-05-16T16:03:47.502043Z",
     "start_time": "2024-05-16T16:03:47.423823Z"
    }
   }
  },
  {
   "cell_type": "markdown",
   "source": [
    "## aNbNcN"
   ],
   "metadata": {
    "collapsed": false
   }
  },
  {
   "cell_type": "code",
   "execution_count": 140,
   "outputs": [
    {
     "data": {
      "text/plain": "<Figure size 486x150.182 with 2 Axes>",
      "image/png": "[encoded data removed]"
     },
     "metadata": {
      "needs_background": "light"
     },
     "output_type": "display_data"
    }
   ],
   "source": [
    "plot_loss_vs_rules(anbncn_df, anbncn_stats, filename=\"anbncn_loss_vs_rules\")"
   ],
   "metadata": {
    "collapsed": false,
    "ExecuteTime": {
     "end_time": "2024-05-16T16:03:49.728087Z",
     "start_time": "2024-05-16T16:03:47.487115Z"
    }
   }
  },
  {
   "cell_type": "code",
   "execution_count": 141,
   "outputs": [
    {
     "name": "stdout",
     "output_type": "stream",
     "text": [
      "------------------------------\n",
      "Model order is=['linear', 'lstm', 'mamba', 'transformer']\n",
      "Plot order is=('val_loss', 'rule_1', 'rule_2', 'ood_rule_1', 'ood_rule_2_completion')\n",
      "------------------------------\n",
      "Linear &$0.000\\scriptscriptstyle\\pm 0.000$ & $0.000\\scriptscriptstyle\\pm 0.000$ & $0.000\\scriptscriptstyle\\pm 0.000$ & $0.000\\scriptscriptstyle\\pm 0.000$ & $0.000\\scriptscriptstyle\\pm 0.000$ & \n",
      "Lstm &$0.017\\scriptscriptstyle\\pm 0.001$ & $1.000\\scriptscriptstyle\\pm 0.000$ & $1.000\\scriptscriptstyle\\pm 0.000$ & $0.068\\scriptscriptstyle\\pm 0.036$ & $1.000\\scriptscriptstyle\\pm 0.000$ & \n",
      "Mamba &$0.017\\scriptscriptstyle\\pm 0.000$ & $1.000\\scriptscriptstyle\\pm 0.000$ & $1.000\\scriptscriptstyle\\pm 0.000$ & $0.090\\scriptscriptstyle\\pm 0.016$ & $1.000\\scriptscriptstyle\\pm 0.000$ & \n",
      "Transformer &$0.024\\scriptscriptstyle\\pm 0.003$ & $1.000\\scriptscriptstyle\\pm 0.000$ & $1.000\\scriptscriptstyle\\pm 0.000$ & $0.187\\scriptscriptstyle\\pm 0.085$ & $1.000\\scriptscriptstyle\\pm 0.000$ & \n"
     ]
    },
    {
     "data": {
      "text/plain": "[]"
     },
     "execution_count": 141,
     "metadata": {},
     "output_type": "execute_result"
    }
   ],
   "source": [
    "rule_stats2string_per_model(anbncn_stats)"
   ],
   "metadata": {
    "collapsed": false,
    "ExecuteTime": {
     "end_time": "2024-05-16T16:03:49.803448Z",
     "start_time": "2024-05-16T16:03:49.731623Z"
    }
   }
  },
  {
   "cell_type": "markdown",
   "source": [
    "## Matched brackets and parentheses"
   ],
   "metadata": {
    "collapsed": false
   }
  },
  {
   "cell_type": "code",
   "execution_count": 142,
   "outputs": [
    {
     "data": {
      "text/plain": "<Figure size 486x150.182 with 2 Axes>",
      "image/png": "[encoded data removed]"
     },
     "metadata": {
      "needs_background": "light"
     },
     "output_type": "display_data"
    }
   ],
   "source": [
    "plot_loss_vs_rules(brackets_df, brackets_stats, filename=\"brackets_loss_vs_rules\")"
   ],
   "metadata": {
    "collapsed": false,
    "ExecuteTime": {
     "end_time": "2024-05-16T16:03:50.873454Z",
     "start_time": "2024-05-16T16:03:49.785151Z"
    }
   }
  },
  {
   "cell_type": "code",
   "execution_count": 143,
   "outputs": [
    {
     "name": "stdout",
     "output_type": "stream",
     "text": [
      "------------------------------\n",
      "Model order is=['linear', 'lstm', 'mamba', 'transformer']\n",
      "Plot order is=('val_loss', 'rule_1', 'rule_2', 'ood_rule_1', 'ood_rule_2_completion')\n",
      "------------------------------\n",
      "Linear &$1.076\\scriptscriptstyle\\pm 0.066$ & $0.909\\scriptscriptstyle\\pm 0.302$ & $0.909\\scriptscriptstyle\\pm 0.302$ & $0.909\\scriptscriptstyle\\pm 0.302$ & $0.909\\scriptscriptstyle\\pm 0.302$ & \n",
      "Lstm &$0.289\\scriptscriptstyle\\pm 0.035$ & $1.000\\scriptscriptstyle\\pm 0.000$ & $1.000\\scriptscriptstyle\\pm 0.000$ & $0.926\\scriptscriptstyle\\pm 0.198$ & $0.984\\scriptscriptstyle\\pm 0.030$ & \n",
      "Mamba &$0.268\\scriptscriptstyle\\pm 0.016$ & $0.803\\scriptscriptstyle\\pm 0.152$ & $0.831\\scriptscriptstyle\\pm 0.131$ & $0.810\\scriptscriptstyle\\pm 0.103$ & $0.716\\scriptscriptstyle\\pm 0.136$ & \n",
      "Transformer &$0.266\\scriptscriptstyle\\pm 0.015$ & $1.000\\scriptscriptstyle\\pm 0.000$ & $1.000\\scriptscriptstyle\\pm 0.000$ & $1.000\\scriptscriptstyle\\pm 0.000$ & $1.000\\scriptscriptstyle\\pm 0.000$ & \n"
     ]
    },
    {
     "data": {
      "text/plain": "[]"
     },
     "execution_count": 143,
     "metadata": {},
     "output_type": "execute_result"
    }
   ],
   "source": [
    "rule_stats2string_per_model(brackets_stats)"
   ],
   "metadata": {
    "collapsed": false,
    "ExecuteTime": {
     "end_time": "2024-05-16T16:03:50.957882Z",
     "start_time": "2024-05-16T16:03:50.879327Z"
    }
   }
  },
  {
   "cell_type": "markdown",
   "source": [
    "## Plot for all languages"
   ],
   "metadata": {
    "collapsed": false
   }
  },
  {
   "cell_type": "code",
   "execution_count": 144,
   "outputs": [
    {
     "name": "stderr",
     "output_type": "stream",
     "text": [
      "/usr/local/lib/python3.9/site-packages/matplotlib/axes/_base.py:2283: UserWarning: Warning: converting a masked element to nan.\n",
      "  xys = np.asarray(xys)\n"
     ]
    },
    {
     "data": {
      "text/plain": "<Figure size 486x150.182 with 2 Axes>",
      "image/png": "[encoded data removed]"
     },
     "metadata": {
      "needs_background": "light"
     },
     "output_type": "display_data"
    }
   ],
   "source": [
    "TICK_PADDING = 2\n",
    "LABELPAD = 1\n",
    "cmap = \"coolwarm\"\n",
    "\n",
    "stats_dict = {\n",
    "    \"baN\": ban_stats,\n",
    "    \"bbaN\": bban_stats,\n",
    "    \"aNbN\": anbn_stats,\n",
    "    \"aNbNcN\": anbncn_stats,\n",
    "    \"[()]\": brackets_stats\n",
    "}\n",
    "\n",
    "colors = {\n",
    "        \"transformer\": \"tab:blue\",\n",
    "        \"lstm\": \"tab:orange\",\n",
    "        \"linear\": \"tab:green\",\n",
    "        \"mamba\": \"tab:red\"\n",
    "        }\n",
    "\n",
    "\n",
    "x_pos = list(range(len(stats_dict)))\n",
    "\n",
    "fig = plt.figure(figsize=figsizes.icml2022_full(nrows=1, ncols=2)['figure.figsize'])\n",
    "\n",
    "ax = fig.add_subplot(121)\n",
    "# ax.grid(True, which=\"both\", ls=\"-.\")\n",
    "# ax.set_axisbelow(True)\n",
    "\n",
    "for x, (key, stats) in enumerate(stats_dict.items()):\n",
    "    for model in stats[\"val_loss\"].groups.keys():\n",
    "\n",
    "        ax.errorbar(x, 100*stats[\"ood_rule_1\"].get_group(model).mean(), yerr=10*stats[\"ood_rule_1\"].get_group(model).std(), fmt='o',label=model, c=colors[model])\n",
    "\n",
    "\n",
    "ax.set_ylabel(\"R1 (\\%)\", labelpad=LABELPAD)\n",
    "\n",
    "# set xtick names\n",
    "ax.set_xticks(x_pos)\n",
    "ax.set_xticklabels(stats_dict.keys())\n",
    "\n",
    "ax2 = fig.add_subplot(122)\n",
    "\n",
    "for x, (key, stats) in enumerate(stats_dict.items()):\n",
    "    for model in stats[\"val_loss\"].groups.keys():\n",
    "        ax2.errorbar(x, 100*stats[\"ood_rule_2_completion\"].get_group(model).mean(), yerr=10*stats[\"ood_rule_2_completion\"].get_group(model).std(), fmt='o',c=colors[model], label = model)\n",
    "\n",
    "\n",
    "# set xtick names\n",
    "ax2.set_xticks(x_pos)\n",
    "ax2.set_xticklabels(stats_dict.keys())\n",
    "ax2.set_ylabel(\"R2 completion (\\%)\", labelpad=LABELPAD)\n",
    "\n",
    "\n",
    "# plt.legend()\n",
    "ax.tick_params(axis='both', which='major', pad=TICK_PADDING)\n"
   ],
   "metadata": {
    "collapsed": false,
    "ExecuteTime": {
     "end_time": "2024-05-16T16:03:51.528070Z",
     "start_time": "2024-05-16T16:03:50.940097Z"
    }
   }
  },
  {
   "cell_type": "code",
   "execution_count": null,
   "outputs": [],
   "source": [],
   "metadata": {
    "collapsed": false
   }
  }
 ],
 "metadata": {
  "kernelspec": {
   "display_name": "Python 3",
   "language": "python",
   "name": "python3"
  },
  "language_info": {
   "codemirror_mode": {
    "name": "ipython",
    "version": 2
   },
   "file_extension": ".py",
   "mimetype": "text/x-python",
   "name": "python",
   "nbconvert_exporter": "python",
   "pygments_lexer": "ipython2",
   "version": "2.7.6"
  }
 },
 "nbformat": 4,
 "nbformat_minor": 0
}
