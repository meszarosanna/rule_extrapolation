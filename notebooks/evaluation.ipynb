{
 "cells": [
  {
   "cell_type": "markdown",
   "source": [
    "# Imports"
   ],
   "metadata": {
    "collapsed": false
   }
  },
  {
   "cell_type": "code",
   "execution_count": null,
   "outputs": [],
   "source": [
    "import wandb\n",
    "from llm_non_identifiability.runner import LightningGrammarModule\n",
    "from llm_non_identifiability.datamodule import GrammarDataModule\n",
    "\n",
    "from pytorch_lightning import Trainer\n",
    "from os.path import abspath, dirname, join\n",
    "import torch"
   ],
   "metadata": {
    "collapsed": false
   }
  },
  {
   "cell_type": "markdown",
   "source": [
    "# Load model"
   ],
   "metadata": {
    "collapsed": false
   }
  },
  {
   "cell_type": "markdown",
   "source": [
    "## Download artifact from wandb"
   ],
   "metadata": {
    "collapsed": false
   }
  },
  {
   "cell_type": "code",
   "execution_count": null,
   "outputs": [],
   "source": [
    "run = wandb.init()"
   ],
   "metadata": {
    "collapsed": false
   }
  },
  {
   "cell_type": "markdown",
   "source": [
    "### Get model"
   ],
   "metadata": {
    "collapsed": false
   }
  },
  {
   "cell_type": "code",
   "execution_count": null,
   "metadata": {
    "collapsed": true
   },
   "outputs": [],
   "source": [
    "model_name = 'model-nifu9qxw:v14'\n",
    "model = run.use_artifact(f'causal-representation-learning/llm-non-identifiability/{model_name}', type='model')\n",
    "artifact_dir = model.download()"
   ]
  },
  {
   "cell_type": "markdown",
   "source": [
    "### Get prompt completion tables"
   ],
   "metadata": {
    "collapsed": false
   }
  },
  {
   "cell_type": "code",
   "execution_count": null,
   "outputs": [],
   "source": [
    "table_name = \"run-xgl66xch-id_prompt_completions:v0\"\n",
    "id_prompt_completions_artifact = run.use_artifact(f'causal-representation-learning/llm_non_identifiability/{table_name}', type='run_table')\n",
    "id_prompt_completions_dir = id_prompt_completions_artifact.download()"
   ],
   "metadata": {
    "collapsed": false
   }
  },
  {
   "cell_type": "code",
   "execution_count": null,
   "outputs": [],
   "source": [
    "id_prompt_completions: list = id_prompt_completions_artifact.get(\"id_prompt_completions\").data\n"
   ],
   "metadata": {
    "collapsed": false
   }
  },
  {
   "cell_type": "markdown",
   "source": [
    "## Load model from checkpoint"
   ],
   "metadata": {
    "collapsed": false
   }
  },
  {
   "cell_type": "code",
   "execution_count": null,
   "outputs": [],
   "source": [
    "# source: https://pytorch-lightning.readthedocs.io/en/stable/common/checkpointing.html#checkpoint-loading\n",
    "checkpoint = \"model.ckpt\"\n",
    "PATH = join(artifact_dir, checkpoint)\n",
    "\n",
    "# To load a model along with its weights and hyperparameters use the following method\n",
    "model: LightningGrammarModule = LightningGrammarModule.load_from_checkpoint(\n",
    "    PATH, device=\"cuda\" if torch.cuda.is_available() else \"cpu\"\n",
    ")"
   ],
   "metadata": {
    "collapsed": false
   }
  },
  {
   "cell_type": "markdown",
   "source": [],
   "metadata": {
    "collapsed": false
   }
  }
 ],
 "metadata": {
  "kernelspec": {
   "display_name": "Python 3",
   "language": "python",
   "name": "python3"
  },
  "language_info": {
   "codemirror_mode": {
    "name": "ipython",
    "version": 2
   },
   "file_extension": ".py",
   "mimetype": "text/x-python",
   "name": "python",
   "nbconvert_exporter": "python",
   "pygments_lexer": "ipython2",
   "version": "2.7.6"
  }
 },
 "nbformat": 4,
 "nbformat_minor": 0
}
