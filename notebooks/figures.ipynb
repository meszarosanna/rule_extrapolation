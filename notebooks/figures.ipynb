{
 "cells": [
  {
   "cell_type": "markdown",
   "source": [
    "# Setup and imports"
   ],
   "metadata": {
    "collapsed": false
   }
  },
  {
   "cell_type": "code",
   "execution_count": null,
   "metadata": {
    "collapsed": true
   },
   "outputs": [],
   "source": [
    "# imports\n",
    "import numpy as np\n",
    "from tueplots import bundles, figsizes\n",
    "import wandb\n",
    "import matplotlib.pyplot as plt\n",
    "import matplotlib.lines as mlines\n",
    "import pandas as pd\n",
    "\n",
    "\n",
    "import sys\n",
    "\n",
    "%load_ext autoreload\n",
    "%autoreload 2\n",
    "\n",
    "sys.path.insert(0, '.')"
   ]
  },
  {
   "cell_type": "code",
   "execution_count": null,
   "outputs": [],
   "source": [
    "from analysis import sweep2df, plot_typography, stats2string, RED, BLUE"
   ],
   "metadata": {
    "collapsed": false
   }
  },
  {
   "cell_type": "code",
   "execution_count": null,
   "outputs": [],
   "source": [
    "USETEX = True"
   ],
   "metadata": {
    "collapsed": false
   }
  },
  {
   "cell_type": "code",
   "execution_count": null,
   "outputs": [],
   "source": [
    "plt.rcParams.update(bundles.icml2022(usetex=USETEX))\n",
    "# plt.rcParams.update({\n",
    "#     'text.latex.preamble': [r'\\usepackage{amsfonts}', # mathbb\n",
    "#                             r'\\usepackage{amsmath}'] # boldsymbol\n",
    "# })"
   ],
   "metadata": {
    "collapsed": false
   }
  },
  {
   "cell_type": "code",
   "execution_count": null,
   "outputs": [],
   "source": [
    "plot_typography(usetex=USETEX, small=12, medium=16, big=20)\n"
   ],
   "metadata": {
    "collapsed": false
   }
  },
  {
   "cell_type": "code",
   "execution_count": null,
   "outputs": [],
   "source": [
    "# Constants\n",
    "ENTITY = \"causal-representation-learning\"\n",
    "PROJECT = \"llm-non-identifiability\"\n",
    "\n",
    "# W&B API\n",
    "api = wandb.Api(timeout=200)\n",
    "runs = api.runs(ENTITY + \"/\" + PROJECT)"
   ],
   "metadata": {
    "collapsed": false
   }
  },
  {
   "cell_type": "markdown",
   "source": [
    "# Data loading"
   ],
   "metadata": {
    "collapsed": false
   }
  },
  {
   "cell_type": "markdown",
   "source": [
    "## Normal sweep"
   ],
   "metadata": {
    "collapsed": false
   }
  },
  {
   "cell_type": "code",
   "execution_count": null,
   "outputs": [],
   "source": [
    "SWEEP_ID = \"o9bkkwin\"\n",
    "sweep = api.sweep(f\"{ENTITY}/{PROJECT}/{SWEEP_ID}\")\n",
    "filename = f\"normal_{SWEEP_ID}\"\n",
    "df, train_loss, val_loss, val_kl, val_accuracy,finised, ood_finised, sos_finised, as_before_bs, same_as_bs, grammatical, ood_as_before_bs, ood_as_before_bs_completion, ood_same_as_bs, ood_grammatical, sos_as_before_bs, sos_same_as_bs, sos_grammatical, = sweep2df(sweep.runs, filename, save=True, load=False)"
   ],
   "metadata": {
    "collapsed": false
   }
  },
  {
   "cell_type": "markdown",
   "source": [
    "## Adversarial sweep"
   ],
   "metadata": {
    "collapsed": false
   }
  },
  {
   "cell_type": "code",
   "execution_count": null,
   "outputs": [],
   "source": [
    "SWEEP_ID = \"qlx35chp\"\n",
    "sweep = api.sweep(f\"{ENTITY}/{PROJECT}/{SWEEP_ID}\")\n",
    "filename = f\"adversarial_{SWEEP_ID}\"\n",
    "df_adversarial, train_loss_adversarial, val_loss_adversarial, val_kl_adversarial, val_accuracy_adversarial,finised_adversarial, ood_finised_adversarial, sos_finised_adversarial, as_before_bs_adversarial, same_as_bs_adversarial, grammatical_adversarial, ood_as_before_bs_adversarial, ood_as_before_bs_completion_adversarial, ood_same_as_bs_adversarial, ood_grammatical_adversarial, sos_as_before_bs_adversarial, sos_same_as_bs_adversarial, sos_grammatical_adversarial, = sweep2df(sweep.runs, filename, save=True, load=False)"
   ],
   "metadata": {
    "collapsed": false
   }
  },
  {
   "cell_type": "markdown",
   "source": [
    "# Plots"
   ],
   "metadata": {
    "collapsed": false
   }
  },
  {
   "cell_type": "markdown",
   "source": [
    "## Rule extrapolation (normal and adversarial)"
   ],
   "metadata": {
    "collapsed": false
   }
  },
  {
   "cell_type": "code",
   "execution_count": null,
   "outputs": [],
   "source": [
    "TICK_PADDING = 2\n",
    "LABELPAD = 1\n",
    "cmap = \"coolwarm\"\n",
    "\n",
    "fig = plt.figure(figsize=figsizes.icml2022_full(nrows=1, ncols=2)['figure.figsize'])\n",
    "\n",
    "ax = fig.add_subplot(121)\n",
    "ax.grid(True, which=\"both\", ls=\"-.\")\n",
    "ax.set_axisbelow(True)\n",
    "\n",
    "im = ax.scatter(df.min_val_loss, df.ood_same_as_bs_accuracy4min_val_loss, cmap=cmap, label=\"normal\")\n",
    "im = ax.scatter(df_adversarial.min_val_loss, df_adversarial.ood_same_as_bs_accuracy4min_val_loss, cmap=cmap, label=\"adversarial\")\n",
    "ax.set_ylabel(\"\\#a=\\#b %\", labelpad=LABELPAD)\n",
    "ax.set_xlabel(\"Minimum validation loss\", labelpad=LABELPAD)\n",
    "plt.legend()\n",
    "ax.tick_params(axis='both', which='major', pad=TICK_PADDING)\n",
    "\n",
    "ax = fig.add_subplot(122)\n",
    "ax.grid(True, which=\"both\", ls=\"-.\")\n",
    "ax.set_axisbelow(True)\n",
    "\n",
    "im = ax.scatter(df.min_val_loss, df.ood_as_before_bs_completion_accuracy4min_val_loss, cmap=cmap, label=\"normal\")\n",
    "im = ax.scatter(df_adversarial.min_val_loss, df_adversarial.ood_as_before_bs_completion_accuracy4min_val_loss, cmap=cmap, label=\"adversarial\")\n",
    "ax.set_ylabel(\"a's before b's %\", labelpad=LABELPAD)\n",
    "ax.set_xlabel(\"Minimum validation loss\", labelpad=LABELPAD)\n",
    "plt.legend()\n",
    "ax.tick_params(axis='both', which='major', pad=TICK_PADDING)\n",
    "\n",
    "\n",
    "plt.savefig(\"adversarial_rule_extrapolation.svg\")"
   ],
   "metadata": {
    "collapsed": false
   }
  },
  {
   "cell_type": "markdown",
   "source": [
    "## Emergence of grammatical correctness"
   ],
   "metadata": {
    "collapsed": false
   }
  },
  {
   "cell_type": "code",
   "execution_count": null,
   "outputs": [],
   "source": [
    "v = np.array(val_kl)"
   ],
   "metadata": {
    "collapsed": false
   }
  },
  {
   "cell_type": "code",
   "execution_count": null,
   "outputs": [],
   "source": [
    "grammatical = np.array(grammatical)"
   ],
   "metadata": {
    "collapsed": false
   }
  },
  {
   "cell_type": "code",
   "execution_count": null,
   "outputs": [],
   "source": [
    "# LABELPAD = 1\n",
    "# TICK_PADDING = 2\n",
    "#\n",
    "# fig = plt.figure(figsize=figsizes.neurips2022(nrows=1, ncols=2, rel_width=1)['figure.figsize'])\n",
    "#\n",
    "#\n",
    "# ax = fig.add_subplot(121)\n",
    "# ax.grid(True, which=\"both\", ls=\"-.\")\n",
    "#\n",
    "#\n",
    "#\n",
    "# # Remove ticks and labels and set which side to label\n",
    "# ticksoff = dict(labelleft=False, labelright=False, left=False, right=False)\n",
    "# ax.tick_params(axis=\"y\", **ticksoff)\n",
    "# ax.tick_params(axis=\"y\", labelleft=True, labelright=False, left=True, right=False)\n",
    "# ax.tick_params(axis=\"y\", labelleft=False, labelright=True, left=False, right=True)\n",
    "#\n",
    "#\n",
    "# ax.errorbar(range(v.shape[1]), (grammatical-np.exp(-v)).mean(0), yerr=(grammatical-np.exp(-v)).std(0), label='val_kl', c=BLUE)\n",
    "#\n"
   ],
   "metadata": {
    "collapsed": false
   }
  }
 ],
 "metadata": {
  "kernelspec": {
   "display_name": "Python 3",
   "language": "python",
   "name": "python3"
  },
  "language_info": {
   "codemirror_mode": {
    "name": "ipython",
    "version": 2
   },
   "file_extension": ".py",
   "mimetype": "text/x-python",
   "name": "python",
   "nbconvert_exporter": "python",
   "pygments_lexer": "ipython2",
   "version": "2.7.6"
  }
 },
 "nbformat": 4,
 "nbformat_minor": 0
}
