{
 "cells": [
  {
   "cell_type": "markdown",
   "source": [
    "# Setup and imports"
   ],
   "metadata": {
    "collapsed": false
   }
  },
  {
   "cell_type": "code",
   "execution_count": null,
   "metadata": {
    "collapsed": true
   },
   "outputs": [],
   "source": [
    "# imports\n",
    "import numpy as np\n",
    "from tueplots import bundles, figsizes\n",
    "import wandb\n",
    "import matplotlib.pyplot as plt\n",
    "import matplotlib.lines as mlines\n",
    "import pandas as pd\n",
    "\n",
    "\n",
    "import sys\n",
    "\n",
    "%load_ext autoreload\n",
    "%autoreload 2\n",
    "\n",
    "sys.path.insert(0, '.')"
   ]
  },
  {
   "cell_type": "code",
   "execution_count": null,
   "outputs": [],
   "source": [
    "from analysis import sweep2df, plot_typography, stats2string, RED, BLUE"
   ],
   "metadata": {
    "collapsed": false
   }
  },
  {
   "cell_type": "code",
   "execution_count": null,
   "outputs": [],
   "source": [
    "USETEX = True"
   ],
   "metadata": {
    "collapsed": false
   }
  },
  {
   "cell_type": "code",
   "execution_count": null,
   "outputs": [],
   "source": [
    "plt.rcParams.update(bundles.icml2022(usetex=USETEX))\n",
    "# plt.rcParams.update({\n",
    "#     'text.latex.preamble': [r'\\usepackage{amsfonts}', # mathbb\n",
    "#                             r'\\usepackage{amsmath}'] # boldsymbol\n",
    "# })"
   ],
   "metadata": {
    "collapsed": false
   }
  },
  {
   "cell_type": "code",
   "execution_count": null,
   "outputs": [],
   "source": [
    "plot_typography(usetex=USETEX, small=12, medium=16, big=20)\n"
   ],
   "metadata": {
    "collapsed": false
   }
  },
  {
   "cell_type": "code",
   "execution_count": null,
   "outputs": [],
   "source": [
    "# Constants\n",
    "ENTITY = \"causal-representation-learning\"\n",
    "PROJECT = \"llm-non-identifiability\"\n",
    "\n",
    "# W&B API\n",
    "api = wandb.Api(timeout=200)\n",
    "runs = api.runs(ENTITY + \"/\" + PROJECT)"
   ],
   "metadata": {
    "collapsed": false
   }
  },
  {
   "cell_type": "markdown",
   "source": [
    "# Data loading"
   ],
   "metadata": {
    "collapsed": false
   }
  },
  {
   "cell_type": "markdown",
   "source": [
    "## Normal sweep"
   ],
   "metadata": {
    "collapsed": false
   }
  },
  {
   "cell_type": "code",
   "execution_count": null,
   "outputs": [],
   "source": [
    "SWEEP_ID = \"ndbfr3qd\"\n",
    "sweep = api.sweep(f\"{ENTITY}/{PROJECT}/{SWEEP_ID}\")\n",
    "filename = f\"normal_{SWEEP_ID}\"\n",
    "df, train_loss, val_loss, val_kl, val_accuracy,finised, ood_finised, sos_finised, as_before_bs, same_as_bs, grammatical, ood_as_before_bs, ood_as_before_bs_completion, ood_same_as_bs, ood_grammatical, sos_as_before_bs, sos_same_as_bs, sos_grammatical, = sweep2df(sweep.runs, filename, save=True, load=False)"
   ],
   "metadata": {
    "collapsed": false
   }
  },
  {
   "cell_type": "markdown",
   "source": [
    "## Adversarial sweep"
   ],
   "metadata": {
    "collapsed": false
   }
  },
  {
   "cell_type": "code",
   "execution_count": null,
   "outputs": [],
   "source": [
    "SWEEP_ID = \"nohk20ol\"\n",
    "sweep = api.sweep(f\"{ENTITY}/{PROJECT}/{SWEEP_ID}\")\n",
    "filename = f\"adversarial_{SWEEP_ID}\"\n",
    "df_adversarial, train_loss_adversarial, val_loss_adversarial, val_kl_adversarial, val_accuracy_adversarial,finised_adversarial, ood_finised_adversarial, sos_finised_adversarial, as_before_bs_adversarial, same_as_bs_adversarial, grammatical_adversarial, ood_as_before_bs_adversarial, ood_as_before_bs_completion_adversarial, ood_same_as_bs_adversarial, ood_grammatical_adversarial, sos_as_before_bs_adversarial, sos_same_as_bs_adversarial, sos_grammatical_adversarial, = sweep2df(sweep.runs, filename, save=True, load=False)"
   ],
   "metadata": {
    "collapsed": false
   }
  },
  {
   "cell_type": "markdown",
   "source": [
    "## Extrapolation sweep"
   ],
   "metadata": {
    "collapsed": false
   }
  },
  {
   "cell_type": "code",
   "execution_count": null,
   "outputs": [],
   "source": [
    "SWEEP_ID = \"gnagvai4\"\n",
    "sweep = api.sweep(f\"{ENTITY}/{PROJECT}/{SWEEP_ID}\")\n",
    "filename = f\"extrapolation_{SWEEP_ID}\"\n",
    "df_extrapolation, train_loss_extrapolation, val_loss_extrapolation, val_kl_extrapolation, val_accuracy_extrapolation,finised_extrapolation, ood_finised_extrapolation, sos_finised_extrapolation, as_before_bs_extrapolation, same_as_bs_extrapolation, grammatical_extrapolation, ood_as_before_bs_extrapolation, ood_as_before_bs_completion_extrapolation, ood_same_as_bs_extrapolation, ood_grammatical_extrapolation, sos_as_before_bs_extrapolation, sos_same_as_bs_extrapolation, sos_grammatical_extrapolation, = sweep2df(sweep.runs, filename, save=True, load=False)"
   ],
   "metadata": {
    "collapsed": false
   }
  },
  {
   "cell_type": "markdown",
   "source": [
    "# Plots"
   ],
   "metadata": {
    "collapsed": false
   }
  },
  {
   "cell_type": "markdown",
   "source": [
    "## Rule extrapolation (normal and adversarial)"
   ],
   "metadata": {
    "collapsed": false
   }
  },
  {
   "cell_type": "code",
   "execution_count": 49,
   "outputs": [
    {
     "data": {
      "text/plain": "(0.021478888902651226, 0.0011338101335613084)"
     },
     "execution_count": 49,
     "metadata": {},
     "output_type": "execute_result"
    }
   ],
   "source": [
    "df.min_val_loss.mean(), df.min_val_loss.std()"
   ],
   "metadata": {
    "collapsed": false,
    "ExecuteTime": {
     "end_time": "2024-01-27T15:22:11.409497Z",
     "start_time": "2024-01-27T15:22:10.663452Z"
    }
   }
  },
  {
   "cell_type": "code",
   "execution_count": null,
   "outputs": [],
   "source": [
    "df_adversarial.min_val_loss.mean(), df_adversarial.min_val_loss.std()"
   ],
   "metadata": {
    "collapsed": false
   }
  },
  {
   "cell_type": "code",
   "execution_count": null,
   "outputs": [],
   "source": [
    "df_extrapolation.min_val_loss.mean(), df_extrapolation.min_val_loss.std()"
   ],
   "metadata": {
    "collapsed": false
   }
  },
  {
   "cell_type": "code",
   "execution_count": 50,
   "outputs": [
    {
     "data": {
      "text/plain": "(0.43700092771778937, 0.04467848035422576)"
     },
     "execution_count": 50,
     "metadata": {},
     "output_type": "execute_result"
    }
   ],
   "source": [
    "df.ood_same_as_bs_accuracy4min_val_loss.mean(), df.ood_same_as_bs_accuracy4min_val_loss.std()"
   ],
   "metadata": {
    "collapsed": false,
    "ExecuteTime": {
     "end_time": "2024-01-27T15:22:30.407265Z",
     "start_time": "2024-01-27T15:22:30.347332Z"
    }
   }
  },
  {
   "cell_type": "code",
   "execution_count": 51,
   "outputs": [
    {
     "data": {
      "text/plain": "(0.0, 0.0)"
     },
     "execution_count": 51,
     "metadata": {},
     "output_type": "execute_result"
    }
   ],
   "source": [
    "df_adversarial.ood_same_as_bs_accuracy4min_val_loss.mean(), df_adversarial.ood_same_as_bs_accuracy4min_val_loss.std()"
   ],
   "metadata": {
    "collapsed": false,
    "ExecuteTime": {
     "end_time": "2024-01-27T15:22:34.185872Z",
     "start_time": "2024-01-27T15:22:34.121389Z"
    }
   }
  },
  {
   "cell_type": "code",
   "execution_count": 52,
   "outputs": [
    {
     "data": {
      "text/plain": "(0.8296164155006409, 0.12182615111142998)"
     },
     "execution_count": 52,
     "metadata": {},
     "output_type": "execute_result"
    }
   ],
   "source": [
    "df_extrapolation.ood_same_as_bs_accuracy4min_val_loss.mean(), df_extrapolation.ood_same_as_bs_accuracy4min_val_loss.std()"
   ],
   "metadata": {
    "collapsed": false,
    "ExecuteTime": {
     "end_time": "2024-01-27T15:22:37.690972Z",
     "start_time": "2024-01-27T15:22:37.643554Z"
    }
   }
  },
  {
   "cell_type": "code",
   "execution_count": null,
   "outputs": [],
   "source": [
    "TICK_PADDING = 2\n",
    "LABELPAD = 1\n",
    "cmap = \"coolwarm\"\n",
    "\n",
    "fig = plt.figure(figsize=figsizes.icml2022_full(nrows=1, ncols=2)['figure.figsize'])\n",
    "\n",
    "ax = fig.add_subplot(121)\n",
    "# ax.grid(True, which=\"both\", ls=\"-.\")\n",
    "ax.set_axisbelow(True)\n",
    "# df.min_val_loss\n",
    "im = ax.bar(x=[0.5, 1.5, 2.5], height=[df.ood_same_as_bs_accuracy4min_val_loss.mean(), df_adversarial.ood_same_as_bs_accuracy4min_val_loss.mean(), df_extrapolation.ood_same_as_bs_accuracy4min_val_loss.mean()], yerr=[df.ood_same_as_bs_accuracy4min_val_loss.std(), df_adversarial.ood_same_as_bs_accuracy4min_val_loss.std(),df_extrapolation.ood_same_as_bs_accuracy4min_val_loss.std()],  label=\"accuracy\", width=0.5, color=BLUE)\n",
    "# im = ax.scatter(df_adversarial.min_val_loss, df_adversarial.ood_same_as_bs_accuracy4min_val_loss, cmap=cmap, label=\"adversarial\")\n",
    "ax.set_ylabel(\"\\#a=\\#b %\", labelpad=LABELPAD)\n",
    "\n",
    "# set xtick names\n",
    "ax.set_xticks([0.5, 1.5, 2.5])\n",
    "ax.set_xticklabels([\"normal\", \"adversarial\", \"extrapolation\"])\n",
    "\n",
    "# ax.set_xlabel(\"Minimum validation loss\", labelpad=LABELPAD)\n",
    "plt.legend()\n",
    "ax.tick_params(axis='both', which='major', pad=TICK_PADDING)\n",
    "\n",
    "# ax = fig.add_subplot(122)\n",
    "# ax.grid(True, which=\"both\", ls=\"-.\")\n",
    "# ax.set_axisbelow(True)\n",
    "#\n",
    "# im = ax.scatter(df.min_val_loss, df.ood_as_before_bs_completion_accuracy4min_val_loss, cmap=cmap, label=\"normal\")\n",
    "# im = ax.scatter(df_adversarial.min_val_loss, df_adversarial.ood_as_before_bs_completion_accuracy4min_val_loss, cmap=cmap, label=\"adversarial\")\n",
    "# ax.set_ylabel(\"a's before b's %\", labelpad=LABELPAD)\n",
    "# ax.set_xlabel(\"Minimum validation loss\", labelpad=LABELPAD)\n",
    "# plt.legend()\n",
    "# ax.tick_params(axis='both', which='major', pad=TICK_PADDING)\n",
    "#\n",
    "#\n",
    "plt.savefig(\"adversarial_rule_extrapolation.svg\")"
   ],
   "metadata": {
    "collapsed": false
   }
  },
  {
   "cell_type": "code",
   "execution_count": null,
   "outputs": [],
   "source": [
    "TICK_PADDING = 2\n",
    "LABELPAD = 1\n",
    "cmap = \"coolwarm\"\n",
    "\n",
    "fig = plt.figure(figsize=figsizes.icml2022_full(nrows=1, ncols=2)['figure.figsize'])\n",
    "\n",
    "ax = fig.add_subplot(121)\n",
    "ax.grid(True, which=\"both\", ls=\"-.\")\n",
    "ax.set_axisbelow(True)\n",
    "\n",
    "im = ax.scatter(df.min_val_loss, df.ood_same_as_bs_accuracy4min_val_loss, cmap=cmap, label=\"normal\")\n",
    "im = ax.scatter(df_adversarial.min_val_loss, df_adversarial.ood_same_as_bs_accuracy4min_val_loss, cmap=cmap, label=\"adversarial\")\n",
    "ax.set_ylabel(\"\\#a=\\#b %\", labelpad=LABELPAD)\n",
    "ax.set_xlabel(\"Minimum validation loss\", labelpad=LABELPAD)\n",
    "plt.legend()\n",
    "ax.tick_params(axis='both', which='major', pad=TICK_PADDING)\n",
    "\n",
    "ax = fig.add_subplot(122)\n",
    "ax.grid(True, which=\"both\", ls=\"-.\")\n",
    "ax.set_axisbelow(True)\n",
    "\n",
    "im = ax.scatter(df.min_val_loss, df.ood_as_before_bs_completion_accuracy4min_val_loss, cmap=cmap, label=\"normal\")\n",
    "im = ax.scatter(df_adversarial.min_val_loss, df_adversarial.ood_as_before_bs_completion_accuracy4min_val_loss, cmap=cmap, label=\"adversarial\")\n",
    "ax.set_ylabel(\"a's before b's %\", labelpad=LABELPAD)\n",
    "ax.set_xlabel(\"Minimum validation loss\", labelpad=LABELPAD)\n",
    "plt.legend()\n",
    "ax.tick_params(axis='both', which='major', pad=TICK_PADDING)\n",
    "\n",
    "\n",
    "plt.savefig(\"adversarial_rule_extrapolation.svg\")"
   ],
   "metadata": {
    "collapsed": false
   }
  },
  {
   "cell_type": "markdown",
   "source": [
    "## Emergence of grammatical correctness"
   ],
   "metadata": {
    "collapsed": false
   }
  },
  {
   "cell_type": "code",
   "execution_count": null,
   "outputs": [],
   "source": [
    "v = np.array(val_kl)"
   ],
   "metadata": {
    "collapsed": false
   }
  },
  {
   "cell_type": "code",
   "execution_count": null,
   "outputs": [],
   "source": [
    "grammatical = np.array(grammatical)"
   ],
   "metadata": {
    "collapsed": false
   }
  },
  {
   "cell_type": "code",
   "execution_count": null,
   "outputs": [],
   "source": [
    "# LABELPAD = 1\n",
    "# TICK_PADDING = 2\n",
    "#\n",
    "# fig = plt.figure(figsize=figsizes.neurips2022(nrows=1, ncols=2, rel_width=1)['figure.figsize'])\n",
    "#\n",
    "#\n",
    "# ax = fig.add_subplot(121)\n",
    "# ax.grid(True, which=\"both\", ls=\"-.\")\n",
    "#\n",
    "#\n",
    "#\n",
    "# # Remove ticks and labels and set which side to label\n",
    "# ticksoff = dict(labelleft=False, labelright=False, left=False, right=False)\n",
    "# ax.tick_params(axis=\"y\", **ticksoff)\n",
    "# ax.tick_params(axis=\"y\", labelleft=True, labelright=False, left=True, right=False)\n",
    "# ax.tick_params(axis=\"y\", labelleft=False, labelright=True, left=False, right=True)\n",
    "#\n",
    "#\n",
    "# ax.errorbar(range(v.shape[1]), (grammatical-np.exp(-v)).mean(0), yerr=(grammatical-np.exp(-v)).std(0), label='val_kl', c=BLUE)\n",
    "#\n"
   ],
   "metadata": {
    "collapsed": false
   }
  }
 ],
 "metadata": {
  "kernelspec": {
   "display_name": "Python 3",
   "language": "python",
   "name": "python3"
  },
  "language_info": {
   "codemirror_mode": {
    "name": "ipython",
    "version": 2
   },
   "file_extension": ".py",
   "mimetype": "text/x-python",
   "name": "python",
   "nbconvert_exporter": "python",
   "pygments_lexer": "ipython2",
   "version": "2.7.6"
  }
 },
 "nbformat": 4,
 "nbformat_minor": 0
}
