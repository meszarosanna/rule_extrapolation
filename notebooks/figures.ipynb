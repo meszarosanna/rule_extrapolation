{
 "cells": [
  {
   "cell_type": "markdown",
   "source": [
    "# Setup and imports"
   ],
   "metadata": {
    "collapsed": false
   }
  },
  {
   "cell_type": "code",
   "execution_count": null,
   "metadata": {
    "collapsed": true
   },
   "outputs": [],
   "source": [
    "# imports\n",
    "import numpy as np\n",
    "from tueplots import bundles, figsizes\n",
    "import wandb\n",
    "import matplotlib.pyplot as plt\n",
    "import matplotlib.lines as mlines\n",
    "import pandas as pd\n",
    "\n",
    "\n",
    "import sys\n",
    "\n",
    "%load_ext autoreload\n",
    "%autoreload 2\n",
    "\n",
    "sys.path.insert(0, '.')"
   ]
  },
  {
   "cell_type": "code",
   "execution_count": null,
   "outputs": [],
   "source": [
    "from analysis import sweep2df, plot_typography, stats2string, RED, BLUE"
   ],
   "metadata": {
    "collapsed": false
   }
  },
  {
   "cell_type": "code",
   "execution_count": null,
   "outputs": [],
   "source": [
    "USETEX = True"
   ],
   "metadata": {
    "collapsed": false
   }
  },
  {
   "cell_type": "code",
   "execution_count": null,
   "outputs": [],
   "source": [
    "plt.rcParams.update(bundles.icml2022(usetex=USETEX))\n",
    "# plt.rcParams.update({\n",
    "#     'text.latex.preamble': [r'\\usepackage{amsfonts}', # mathbb\n",
    "#                             r'\\usepackage{amsmath}'] # boldsymbol\n",
    "# })"
   ],
   "metadata": {
    "collapsed": false
   }
  },
  {
   "cell_type": "code",
   "execution_count": null,
   "outputs": [],
   "source": [
    "plot_typography(usetex=USETEX, small=12, medium=16, big=20)\n"
   ],
   "metadata": {
    "collapsed": false
   }
  },
  {
   "cell_type": "code",
   "execution_count": null,
   "outputs": [],
   "source": [
    "# Constants\n",
    "ENTITY = \"causal-representation-learning\"\n",
    "PROJECT = \"llm-non-identifiability\"\n",
    "\n",
    "# W&B API\n",
    "api = wandb.Api(timeout=200)\n",
    "runs = api.runs(ENTITY + \"/\" + PROJECT)"
   ],
   "metadata": {
    "collapsed": false
   }
  },
  {
   "cell_type": "markdown",
   "source": [
    "# Data loading"
   ],
   "metadata": {
    "collapsed": false
   }
  },
  {
   "cell_type": "markdown",
   "source": [
    "## Normal sweep"
   ],
   "metadata": {
    "collapsed": false
   }
  },
  {
   "cell_type": "code",
   "execution_count": null,
   "outputs": [],
   "source": [
    "SWEEP_ID = \"ctcgta0r\"\n",
    "sweep = api.sweep(f\"{ENTITY}/{PROJECT}/{SWEEP_ID}\")\n",
    "filename = f\"normal_{SWEEP_ID}\"\n",
    "df, train_loss, val_loss, val_kl, val_accuracy,finised, ood_finised, sos_finised, as_before_bs, same_as_bs, grammatical, ood_as_before_bs, ood_as_before_bs_completion, ood_same_as_bs, ood_grammatical, sos_as_before_bs, sos_same_as_bs, sos_grammatical, = sweep2df(sweep.runs, filename, save=True, load=True)"
   ],
   "metadata": {
    "collapsed": false
   }
  },
  {
   "cell_type": "markdown",
   "source": [
    "## Adversarial sweep"
   ],
   "metadata": {
    "collapsed": false
   }
  },
  {
   "cell_type": "code",
   "execution_count": null,
   "outputs": [],
   "source": [
    "SWEEP_ID = \"nohk20ol\"\n",
    "sweep = api.sweep(f\"{ENTITY}/{PROJECT}/{SWEEP_ID}\")\n",
    "filename = f\"adversarial_{SWEEP_ID}\"\n",
    "df_adversarial, train_loss_adversarial, val_loss_adversarial, val_kl_adversarial, val_accuracy_adversarial,finised_adversarial, ood_finised_adversarial, sos_finised_adversarial, as_before_bs_adversarial, same_as_bs_adversarial, grammatical_adversarial, ood_as_before_bs_adversarial, ood_as_before_bs_completion_adversarial, ood_same_as_bs_adversarial, ood_grammatical_adversarial, sos_as_before_bs_adversarial, sos_same_as_bs_adversarial, sos_grammatical_adversarial, = sweep2df(sweep.runs, filename, save=True, load=True)"
   ],
   "metadata": {
    "collapsed": false
   }
  },
  {
   "cell_type": "markdown",
   "source": [
    "## Extrapolation sweep"
   ],
   "metadata": {
    "collapsed": false
   }
  },
  {
   "cell_type": "code",
   "execution_count": null,
   "outputs": [],
   "source": [
    "SWEEP_ID = \"gnagvai4\"\n",
    "sweep = api.sweep(f\"{ENTITY}/{PROJECT}/{SWEEP_ID}\")\n",
    "filename = f\"extrapolation_{SWEEP_ID}\"\n",
    "df_extrapolation, train_loss_extrapolation, val_loss_extrapolation, val_kl_extrapolation, val_accuracy_extrapolation,finised_extrapolation, ood_finised_extrapolation, sos_finised_extrapolation, as_before_bs_extrapolation, same_as_bs_extrapolation, grammatical_extrapolation, ood_as_before_bs_extrapolation, ood_as_before_bs_completion_extrapolation, ood_same_as_bs_extrapolation, ood_grammatical_extrapolation, sos_as_before_bs_extrapolation, sos_same_as_bs_extrapolation, sos_grammatical_extrapolation, = sweep2df(sweep.runs, filename, save=True, load=True)"
   ],
   "metadata": {
    "collapsed": false
   }
  },
  {
   "cell_type": "markdown",
   "source": [
    "# Plots"
   ],
   "metadata": {
    "collapsed": false
   }
  },
  {
   "cell_type": "markdown",
   "source": [
    "## Rule extrapolation (normal and adversarial)"
   ],
   "metadata": {
    "collapsed": false
   }
  },
  {
   "cell_type": "code",
   "execution_count": null,
   "outputs": [],
   "source": [
    "df.min_val_loss.mean(), df.min_val_loss.std()"
   ],
   "metadata": {
    "collapsed": false
   }
  },
  {
   "cell_type": "code",
   "execution_count": null,
   "outputs": [],
   "source": [
    "df_adversarial.min_val_loss.mean(), df_adversarial.min_val_loss.std()"
   ],
   "metadata": {
    "collapsed": false
   }
  },
  {
   "cell_type": "code",
   "execution_count": null,
   "outputs": [],
   "source": [
    "df_extrapolation.min_val_loss.mean(), df_extrapolation.min_val_loss.std()"
   ],
   "metadata": {
    "collapsed": false
   }
  },
  {
   "cell_type": "code",
   "execution_count": null,
   "outputs": [],
   "source": [
    "df.ood_same_as_bs_accuracy4min_val_loss.mean(), df.ood_same_as_bs_accuracy4min_val_loss.std(), df.ood_same_as_bs_accuracy4min_val_loss.min(), df.ood_same_as_bs_accuracy4min_val_loss.max()"
   ],
   "metadata": {
    "collapsed": false
   }
  },
  {
   "cell_type": "code",
   "execution_count": null,
   "outputs": [],
   "source": [
    "df_adversarial.ood_same_as_bs_accuracy4min_val_loss.mean(), df_adversarial.ood_same_as_bs_accuracy4min_val_loss.std(), df_adversarial.ood_same_as_bs_accuracy4min_val_loss.min(), df_adversarial.ood_same_as_bs_accuracy4min_val_loss.max()"
   ],
   "metadata": {
    "collapsed": false
   }
  },
  {
   "cell_type": "code",
   "execution_count": null,
   "outputs": [],
   "source": [
    "df_extrapolation.ood_same_as_bs_accuracy4min_val_loss.mean(), df_extrapolation.ood_same_as_bs_accuracy4min_val_loss.std(), df_extrapolation.ood_same_as_bs_accuracy4min_val_loss.min(), df_extrapolation.ood_same_as_bs_accuracy4min_val_loss.max()"
   ],
   "metadata": {
    "collapsed": false
   }
  },
  {
   "cell_type": "code",
   "execution_count": null,
   "outputs": [],
   "source": [
    "TICK_PADDING = 2\n",
    "LABELPAD = 1\n",
    "cmap = \"coolwarm\"\n",
    "\n",
    "fig = plt.figure(figsize=figsizes.icml2022_full(nrows=1, ncols=2)['figure.figsize'])\n",
    "\n",
    "ax = fig.add_subplot(121)\n",
    "# ax.grid(True, which=\"both\", ls=\"-.\")\n",
    "ax.set_axisbelow(True)\n",
    "# df.min_val_loss\n",
    "im = ax.bar(x=[0.5, 1.5, 2.5], height=[df.ood_same_as_bs_accuracy4min_val_loss.mean(), df_adversarial.ood_same_as_bs_accuracy4min_val_loss.mean(), df_extrapolation.ood_same_as_bs_accuracy4min_val_loss.mean()], yerr=[df.ood_same_as_bs_accuracy4min_val_loss.std(), df_adversarial.ood_same_as_bs_accuracy4min_val_loss.std(),df_extrapolation.ood_same_as_bs_accuracy4min_val_loss.std()],  label=\"accuracy\", width=0.5, color=BLUE)\n",
    "# im = ax.scatter(df_adversarial.min_val_loss, df_adversarial.ood_same_as_bs_accuracy4min_val_loss, cmap=cmap, label=\"adversarial\")\n",
    "ax.set_ylabel(\"\\#a=\\#b %\", labelpad=LABELPAD)\n",
    "\n",
    "# set xtick names\n",
    "ax.set_xticks([0.5, 1.5, 2.5])\n",
    "ax.set_xticklabels([\"normal\", \"adversarial\", \"extrapolation\"])\n",
    "\n",
    "# ax.set_xlabel(\"Minimum validation loss\", labelpad=LABELPAD)\n",
    "plt.legend()\n",
    "ax.tick_params(axis='both', which='major', pad=TICK_PADDING)\n",
    "\n",
    "# ax = fig.add_subplot(122)\n",
    "# ax.grid(True, which=\"both\", ls=\"-.\")\n",
    "# ax.set_axisbelow(True)\n",
    "#\n",
    "# im = ax.scatter(df.min_val_loss, df.ood_as_before_bs_completion_accuracy4min_val_loss, cmap=cmap, label=\"normal\")\n",
    "# im = ax.scatter(df_adversarial.min_val_loss, df_adversarial.ood_as_before_bs_completion_accuracy4min_val_loss, cmap=cmap, label=\"adversarial\")\n",
    "# ax.set_ylabel(\"a's before b's %\", labelpad=LABELPAD)\n",
    "# ax.set_xlabel(\"Minimum validation loss\", labelpad=LABELPAD)\n",
    "# plt.legend()\n",
    "# ax.tick_params(axis='both', which='major', pad=TICK_PADDING)\n",
    "#\n",
    "#\n",
    "plt.savefig(\"adversarial_rule_extrapolation.svg\")"
   ],
   "metadata": {
    "collapsed": false
   }
  },
  {
   "cell_type": "code",
   "execution_count": null,
   "outputs": [],
   "source": [
    "TICK_PADDING = 2\n",
    "LABELPAD = 1\n",
    "cmap = \"coolwarm\"\n",
    "\n",
    "fig = plt.figure(figsize=figsizes.icml2022_full(nrows=1, ncols=2)['figure.figsize'])\n",
    "\n",
    "ax = fig.add_subplot(121)\n",
    "ax.grid(True, which=\"both\", ls=\"-.\")\n",
    "ax.set_axisbelow(True)\n",
    "\n",
    "im = ax.scatter(df.min_val_loss, df.ood_same_as_bs_accuracy4min_val_loss, cmap=cmap, label=\"normal\")\n",
    "im = ax.scatter(df_adversarial.min_val_loss, df_adversarial.ood_same_as_bs_accuracy4min_val_loss, cmap=cmap, label=\"adversarial\")\n",
    "ax.set_ylabel(\"\\#a=\\#b %\", labelpad=LABELPAD)\n",
    "ax.set_xlabel(\"Minimum test loss\", labelpad=LABELPAD)\n",
    "plt.legend()\n",
    "ax.tick_params(axis='both', which='major', pad=TICK_PADDING)\n",
    "\n",
    "ax = fig.add_subplot(122)\n",
    "ax.grid(True, which=\"both\", ls=\"-.\")\n",
    "ax.set_axisbelow(True)\n",
    "\n",
    "im = ax.scatter(df.min_val_loss, df.ood_as_before_bs_completion_accuracy4min_val_loss, cmap=cmap, label=\"normal\")\n",
    "im = ax.scatter(df_adversarial.min_val_loss, df_adversarial.ood_as_before_bs_completion_accuracy4min_val_loss, cmap=cmap, label=\"adversarial\")\n",
    "ax.set_ylabel(\"a's before b's %\", labelpad=LABELPAD)\n",
    "ax.set_xlabel(\"Minimum validation loss\", labelpad=LABELPAD)\n",
    "plt.legend()\n",
    "ax.tick_params(axis='both', which='major', pad=TICK_PADDING)\n",
    "\n",
    "\n",
    "plt.savefig(\"adversarial_rule_extrapolation.svg\")"
   ],
   "metadata": {
    "collapsed": false
   }
  },
  {
   "cell_type": "code",
   "execution_count": null,
   "outputs": [],
   "source": [
    "def _prune_histories(histories):\n",
    "    min_len = np.array([len(v) for v in histories]).min()\n",
    "    return np.array([v[:min_len] for v in histories])"
   ],
   "metadata": {
    "collapsed": false
   }
  },
  {
   "cell_type": "code",
   "execution_count": null,
   "outputs": [],
   "source": [
    "val_loss_pruned = _prune_histories(val_loss)\n",
    "val_loss_adversarial_pruned = _prune_histories(val_loss_adversarial)\n",
    "val_loss_extrapolation_pruned = _prune_histories(val_loss_extrapolation)\n",
    "\n",
    "ood_same_as_bs_pruned = _prune_histories(ood_same_as_bs)\n",
    "ood_same_as_bs_adversarial_pruned = _prune_histories(ood_same_as_bs_adversarial)\n",
    "ood_same_as_bs_extrapolation_pruned = _prune_histories(ood_same_as_bs_extrapolation)"
   ],
   "metadata": {
    "collapsed": false
   }
  },
  {
   "cell_type": "code",
   "execution_count": null,
   "outputs": [],
   "source": [
    "from scipy.interpolate import make_interp_spline\n",
    "def spline_interpolation(x, y, num=100):\n",
    "    xnew = np.linspace(x.min(), x.max(), num=num)\n",
    "    ynew = make_interp_spline(x, y)(xnew)\n",
    "    return xnew, ynew"
   ],
   "metadata": {
    "collapsed": false
   }
  },
  {
   "cell_type": "code",
   "execution_count": null,
   "outputs": [],
   "source": [
    "TICK_PADDING = 2\n",
    "LABELPAD = 2\n",
    "cmap = \"coolwarm\"\n",
    "EPS=1e-8\n",
    "\n",
    "fig = plt.figure(figsize=figsizes.icml2022_full(nrows=2, ncols=3)['figure.figsize'])\n",
    "\n",
    "\n",
    "ax = fig.add_subplot(121)\n",
    "ax.grid(True, which=\"both\", ls=\"-.\")\n",
    "ax.set_axisbelow(True)\n",
    "\n",
    "\n",
    "# max likelihood\n",
    "# for as_bs, val in zip(ood_same_as_bs, val_loss):\n",
    "#     if len(as_bs) == 0:\n",
    "#         continue\n",
    "#     ax.plot(as_bs, val, alpha=0.2, c=BLUE)\n",
    "\n",
    "im = ax.plot(100*ood_same_as_bs_pruned.mean(0), val_loss_pruned.mean(0),\n",
    "                 label=\"max likelihood\", c=BLUE)\n",
    "\n",
    "\n",
    "\n",
    "\n",
    "im = ax.scatter(100*ood_same_as_bs_pruned.mean(0)[0], val_loss_pruned.mean(0)[0], c=BLUE, marker=\"o\", s=35)\n",
    "im = ax.scatter(100*ood_same_as_bs_pruned.mean(0)[-1], val_loss_pruned.mean(0)[-1], c=BLUE, marker=\"*\", s=100)\n",
    "\n",
    "# adversarial\n",
    "# for as_bs, val in zip(ood_same_as_bs_adversarial, val_loss_adversarial):\n",
    "#     if len(as_bs) == 0:\n",
    "#         continue\n",
    "#     ax.plot(as_bs, val,  alpha=0.2, c=RED)\n",
    "\n",
    "im = ax.plot(100* ood_same_as_bs_adversarial_pruned.mean(0), val_loss_adversarial_pruned.mean(0),\n",
    "                 label=\"adversarial\", c=RED)\n",
    "\n",
    "\n",
    "\n",
    "im = ax.scatter(100*ood_same_as_bs_adversarial_pruned.mean(0)[0], val_loss_adversarial_pruned.mean(0)[0], c=RED, marker=\"o\", s=35)\n",
    "im = ax.scatter(100*ood_same_as_bs_adversarial_pruned.mean(0)[-1], val_loss_adversarial_pruned.mean(0)[-1], c=RED, marker=\"*\", s=100)\n",
    "\n",
    "\n",
    "# oracle\n",
    "# for as_bs, val in zip(ood_same_as_bs_extrapolation, val_loss_extrapolation):\n",
    "#     if len(as_bs) == 0:\n",
    "#         continue\n",
    "#     ax.plot(as_bs, val,  alpha=0.2, c=\"green\")\n",
    "\n",
    "im = ax.plot(100* ood_same_as_bs_extrapolation_pruned.mean(0), val_loss_extrapolation_pruned.mean(0),\n",
    "                 label=\"oracle\", c=\"green\")\n",
    "\n",
    "im = ax.scatter(100*ood_same_as_bs_extrapolation_pruned.mean(0)[0], val_loss_extrapolation_pruned.mean(0)[0], c=\"green\", marker=\"o\", s=35)\n",
    "im = ax.scatter(100*ood_same_as_bs_extrapolation_pruned.mean(0)[-1], val_loss_extrapolation_pruned.mean(0)[-1], c=\"green\", marker=\"*\", s=100)\n",
    "\n",
    "\n",
    "handles, labels = ax.get_legend_handles_labels()\n",
    "\n",
    "\n",
    "\n",
    "\n",
    "# Create the linestyle-based legend and set its location\n",
    "start_marker = mlines.Line2D([], [], color='black', marker='o', linestyle='None', markersize=5, label='start')\n",
    "end_marker = mlines.Line2D([], [], color='black', marker='*', linestyle='None', markersize=10, label='end')\n",
    "handles2 = [start_marker, end_marker]\n",
    "labels2 = ['start', 'end']\n",
    "legend = ax.legend([*handles, *handles2], [*labels, *labels2], loc='upper right')\n",
    "\n",
    "ax.add_artist(legend)\n",
    "\n",
    "# set xtick names\n",
    "ax.set_xticks([0, 20, 40, 60, 80,])\n",
    "ax.set_xticklabels([\"0\\%\", \"20\\%\", \"40\\%\", \"60\\%\", \"80\\%\"])\n",
    "\n",
    "ax.set_xlabel(\"OOD Accuracy of Rule 1 (\\#a=\\#b)\", labelpad=LABELPAD)\n",
    "ax.set_ylabel(\"Test loss\", labelpad=LABELPAD)\n",
    "\n",
    "\n",
    "plt.savefig(\"rule_extrapolation.svg\")"
   ],
   "metadata": {
    "collapsed": false
   }
  },
  {
   "cell_type": "markdown",
   "source": [
    "## Emergence of grammatical correctness"
   ],
   "metadata": {
    "collapsed": false
   }
  },
  {
   "cell_type": "code",
   "execution_count": null,
   "outputs": [],
   "source": [
    "v = np.array(val_kl)"
   ],
   "metadata": {
    "collapsed": false
   }
  },
  {
   "cell_type": "code",
   "execution_count": null,
   "outputs": [],
   "source": [
    "grammatical = np.array(grammatical)"
   ],
   "metadata": {
    "collapsed": false
   }
  },
  {
   "cell_type": "code",
   "execution_count": null,
   "outputs": [],
   "source": [
    "LABELPAD = 1\n",
    "TICK_PADDING = 2\n",
    "#\n",
    "fig = plt.figure(figsize=figsizes.neurips2022(nrows=1, ncols=2, rel_width=1)['figure.figsize'])\n",
    "#\n",
    "#\n",
    "ax = fig.add_subplot(121)\n",
    "ax.grid(True, which=\"both\", ls=\"-.\")\n",
    "\n",
    "#\n",
    "# same_as_bs = np.array(same_as_bs)\n",
    "# val_loss = np.array(val_loss)\n",
    "\n",
    "for as_bs, val in zip(ood_same_as_bs, val_loss):\n",
    "    if len(as_bs) == 0:\n",
    "        continue\n",
    "    ax.plot(val, as_bs, alpha=0.3)\n",
    "# ax.scatter(val_loss, same_as_bs, label=\"normal\", c=BLUE)\n",
    "\n",
    "for as_bs, val in zip(ood_same_as_bs_adversarial, val_loss_adversarial):\n",
    "    if len(as_bs) == 0:\n",
    "        continue\n",
    "    ax.plot(val, as_bs, alpha=0.3)\n",
    "#\n",
    "#\n",
    "# # Remove ticks and labels and set which side to label\n",
    "# ticksoff = dict(labelleft=False, labelright=False, left=False, right=False)\n",
    "# ax.tick_params(axis=\"y\", **ticksoff)\n",
    "# ax.tick_params(axis=\"y\", labelleft=True, labelright=False, left=True, right=False)\n",
    "# ax.tick_params(axis=\"y\", labelleft=False, labelright=True, left=False, right=True)\n",
    "#\n",
    "#\n",
    "# ax.errorbar(range(v.shape[1]), (grammatical-np.exp(-v)).mean(0), yerr=(grammatical-np.exp(-v)).std(0), label='val_kl', c=BLUE)\n",
    "#\n"
   ],
   "metadata": {
    "collapsed": false
   }
  },
  {
   "cell_type": "code",
   "execution_count": null,
   "outputs": [],
   "source": [
    "ax.plot(same_as_bs[0])"
   ],
   "metadata": {
    "collapsed": false
   }
  }
 ],
 "metadata": {
  "kernelspec": {
   "display_name": "Python 3",
   "language": "python",
   "name": "python3"
  },
  "language_info": {
   "codemirror_mode": {
    "name": "ipython",
    "version": 2
   },
   "file_extension": ".py",
   "mimetype": "text/x-python",
   "name": "python",
   "nbconvert_exporter": "python",
   "pygments_lexer": "ipython2",
   "version": "2.7.6"
  }
 },
 "nbformat": 4,
 "nbformat_minor": 0
}
